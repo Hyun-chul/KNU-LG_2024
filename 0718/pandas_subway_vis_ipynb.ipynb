{
  "cells": [
    {
      "cell_type": "markdown",
      "metadata": {
        "id": "dn80l9t5evM6"
      },
      "source": [
        "# pandas 실습 과제 (7/17)\n",
        "\n",
        "## 2024년 6월 서울시 지하철호선별 역별 승하차 인원 정보\n",
        "\n",
        "1. 2024년 6월 서울시 지하철 노선별 역별 승하차 인원 정보 파일을 읽어와서 데이터프레임으로 저장하세요.\n",
        "\n",
        "2. 데이터프레임(df)의 처음과 마지막 5개의 로우를 각각 출력하세요.\n",
        "\n",
        "3. 데이터프레임(df)이 몇 개의 로우와 행으로 이루어져 있는지 구조(shape)를 확인하세요.\n",
        "\n",
        "4. 데이터프레임(df)의 평균, 표준편차, 사분위수 등 주요 통계 지표를 확인하세요.\n",
        "\n",
        "5. 데이터프레임(df)에 몇 개의 컬럼이 있는지, 각 컬럼에 포함된 데이터들의 타입은 무엇인지 확인해보세요.\n",
        "\n",
        "6. ‘노선명’ 컬럼이 가지고 있는 데이터의 종류를 확인하세요.\n",
        "\n",
        "7. ‘노선명’ 컬럼의 각 데이터가 몇 개씩 포함되어 있는지 확인하세요.\n",
        "\n",
        "8. ‘승차총승객수’ 컬럼을 기준으로 데이터를 정렬하세요.\n",
        "\n",
        "9. ‘노선명’ 컬럼을 선택하세요.\n",
        "\n",
        "10. 데이터프레임의 위에서부터 10개(0번째부터 9번째)의 데이터(로우)를 선택하세요.\n",
        "\n",
        "11. 데이터프레임에서 ‘노선명’이 ‘2호선’인 로우만 선택하세요.\n",
        "\n",
        "12. 데이터프레임에서 ‘승차총승객수’가 50,000명 이상인 로우의 ‘역명’을 선택하세요.\n",
        "\n",
        "13. '승차총승객수'의 최대값과 최대값 로우의 인덱스가 무엇인지 확인하세요.\n",
        "\n",
        "14. 데이터프레임에서 0번 로우를 삭제하세요.\n",
        "\n",
        "15. 데이터프레임에서 ‘등록일자’ 컬럼을 삭제하세요.\n",
        "\n",
        "16. ‘승차총승객수’ 컬럼의 모든 값을 2씩 증가시키세요.\n",
        "\n",
        "17. ‘승차총승객수’와 ‘하차총승객수’ 컬럼의 차이를 계산한 ‘승하차총승객수차이’ 컬럼을 생성하세요.\n",
        "\n",
        "18. ‘승하차총승객수차이’의 평균값을 계산하세요.\n",
        "\n",
        "19. 데이터프레임에서 10개의 행을 샘플링하세요.\n",
        "\n",
        "20. 샘플링된 데이터프레임(sample_df)의 값에서 ‘노선명’ 컬럼의 값이 1호선, 2호선, 3호선, 4호선인  값을 영어(line1, line2, line3, line4)로 변경하세요.\n",
        "\n",
        "21. 데이터프레임(df)의 ‘사용일자’ 컬럼을 연도-월-일(예: 2021-02-01)의 형태로 표시되도록 수정하세요.*\n",
        "\n",
        "22. 데이터프레임(df)의 ‘사용일자1’ 컬럼을 새로 생성하고, ‘사용일자’ 컬럼에 있는 값을 datetime64의 타입으로 변환하여 저장하세요.\n"
      ]
    },
    {
      "cell_type": "code",
      "execution_count": null,
      "metadata": {
        "id": "ejvdvSVDQvja"
      },
      "outputs": [],
      "source": [
        "import pandas as pd\n",
        "import seaborn as sns"
      ]
    },
    {
      "cell_type": "markdown",
      "metadata": {
        "id": "E6EIgCsCLe4O"
      },
      "source": [
        "#### 1. 2024년 6월 서울시 지하철노선별 역별 승하차 인원 정보 파일을 읽어와서 데이터프레임으로 저장하세요.\n",
        "- dataload"
      ]
    },
    {
      "cell_type": "code",
      "source": [],
      "metadata": {
        "id": "nPRZop2-WpNB"
      },
      "execution_count": null,
      "outputs": []
    },
    {
      "cell_type": "markdown",
      "metadata": {
        "id": "xYn1xQHTLe4P"
      },
      "source": [
        "#### 2. 데이터프레임(df)의 처음과 마지막 5개의 로우를 각각 출력하세요.\n",
        "- `head` and `tail`"
      ]
    },
    {
      "cell_type": "code",
      "source": [],
      "metadata": {
        "id": "bL4hJv5lWqAg"
      },
      "execution_count": null,
      "outputs": []
    },
    {
      "cell_type": "markdown",
      "metadata": {
        "id": "j93bkJNfLe4P"
      },
      "source": [
        "#### 3. 데이터프레임(df)이 몇 개의 로우와 행으로 이루어져 있는지 구조(shape)를 확인하세요.\n",
        "- `shape`"
      ]
    },
    {
      "cell_type": "code",
      "source": [],
      "metadata": {
        "id": "8EpScrr9Wrtx"
      },
      "execution_count": null,
      "outputs": []
    },
    {
      "cell_type": "markdown",
      "metadata": {
        "id": "w-pRpRe2Le4P"
      },
      "source": [
        "#### 4. 데이터프레임(df)의 평균, 표준편차, 사분위수 등 주요 통계 지표를 확인하세요.\n",
        "- `describe`"
      ]
    },
    {
      "cell_type": "code",
      "source": [],
      "metadata": {
        "id": "Zk6xEr1aWsoI"
      },
      "execution_count": null,
      "outputs": []
    },
    {
      "cell_type": "markdown",
      "metadata": {
        "id": "hAD55fkgLe4P"
      },
      "source": [
        "#### 5. 데이터프레임(df)의 각 컬럼에 포함된 데이터들의 타입은 무엇인지 확인해보세요.\n",
        "- `dtypes`"
      ]
    },
    {
      "cell_type": "code",
      "source": [],
      "metadata": {
        "id": "rT3BVVLAWta5"
      },
      "execution_count": null,
      "outputs": []
    },
    {
      "cell_type": "markdown",
      "metadata": {
        "id": "a1NXDY2ELe4P"
      },
      "source": [
        "#### 6. ‘노선명’ 컬럼이 가지고 있는 데이터의 종류를 확인하세요.\n",
        "- `unique`"
      ]
    },
    {
      "cell_type": "code",
      "source": [],
      "metadata": {
        "id": "PgSe0EbgWuSQ"
      },
      "execution_count": null,
      "outputs": []
    },
    {
      "cell_type": "markdown",
      "metadata": {
        "id": "yalrD-HFLe4P"
      },
      "source": [
        "#### 7. ‘노선명’ 컬럼의 각 데이터가 몇 개씩 포함되어 있는지 확인하세요.\n",
        "- `value_counts`"
      ]
    },
    {
      "cell_type": "code",
      "source": [],
      "metadata": {
        "id": "jSWr6zm4Wu-n"
      },
      "execution_count": null,
      "outputs": []
    },
    {
      "cell_type": "markdown",
      "metadata": {
        "id": "SL8hAufSLe4Q"
      },
      "source": [
        "#### 8. ‘승차총승객수’ 컬럼을 기준으로 데이터를 정렬하세요.\n",
        "- `sort_values`"
      ]
    },
    {
      "cell_type": "code",
      "source": [],
      "metadata": {
        "id": "NPaUnXmxWvzf"
      },
      "execution_count": null,
      "outputs": []
    },
    {
      "cell_type": "markdown",
      "metadata": {
        "id": "T61PDhAuLe4Q"
      },
      "source": [
        "#### 9. ‘노선명’ 컬럼을 선택하세요.\n"
      ]
    },
    {
      "cell_type": "code",
      "source": [],
      "metadata": {
        "id": "HOg23EMxWwqR"
      },
      "execution_count": null,
      "outputs": []
    },
    {
      "cell_type": "markdown",
      "metadata": {
        "id": "-W3tui-3Le4Q"
      },
      "source": [
        "#### 10. 데이터프레임의 위에서부터 10개(0번째부터 9번째)의 데이터(로우)를 선택하세요.\n",
        "- `iloc`"
      ]
    },
    {
      "cell_type": "code",
      "source": [],
      "metadata": {
        "id": "_Iw_HPoxWxjP"
      },
      "execution_count": null,
      "outputs": []
    },
    {
      "cell_type": "markdown",
      "metadata": {
        "id": "6xu4MsxJLe4Q"
      },
      "source": [
        "#### 11. 데이터프레임에서 ‘노선명’이 ‘2호선’인 로우만 선택하세요.\n",
        "- filtering"
      ]
    },
    {
      "cell_type": "code",
      "source": [],
      "metadata": {
        "id": "F_lMgnLgWy53"
      },
      "execution_count": null,
      "outputs": []
    },
    {
      "cell_type": "markdown",
      "metadata": {
        "id": "uTIeUTnBLe4Q"
      },
      "source": [
        "#### 12. 데이터프레임에서 ‘승차총승객수’가 50,000명 이상인 로우의 ‘역명’을 선택하세요.\n",
        "- filtering"
      ]
    },
    {
      "cell_type": "code",
      "source": [],
      "metadata": {
        "id": "hOU51RfKWzzg"
      },
      "execution_count": null,
      "outputs": []
    },
    {
      "cell_type": "markdown",
      "metadata": {
        "id": "HwoIniO2Le4Q"
      },
      "source": [
        "#### 13. '승차총승객수'의 최대값과 최대값 로우의 인덱스가 무엇인지 확인하세요.\n",
        "- `max` and `idxmax`"
      ]
    },
    {
      "cell_type": "code",
      "source": [],
      "metadata": {
        "id": "uj8SIGKBW0p_"
      },
      "execution_count": null,
      "outputs": []
    },
    {
      "cell_type": "markdown",
      "metadata": {
        "id": "gP7svbGRLe4Q"
      },
      "source": [
        "#### 14. 데이터프레임에서 0번 로우를 삭제하세요.\n",
        "- `drop`"
      ]
    },
    {
      "cell_type": "code",
      "source": [],
      "metadata": {
        "id": "5WJ6_e4WW2VH"
      },
      "execution_count": null,
      "outputs": []
    },
    {
      "cell_type": "markdown",
      "metadata": {
        "id": "ddI25M4vLe4Q"
      },
      "source": [
        "#### 15. 데이터프레임에서 ‘등록일자’ 컬럼을 삭제하세요.\n",
        "- `drop`"
      ]
    },
    {
      "cell_type": "code",
      "source": [],
      "metadata": {
        "id": "cKfYc9QQW32_"
      },
      "execution_count": null,
      "outputs": []
    },
    {
      "cell_type": "markdown",
      "metadata": {
        "id": "OMarklazLe4R"
      },
      "source": [
        "#### 16. ‘승차총승객수’ 컬럼의 모든 값을 2씩 증가시키세요.\n"
      ]
    },
    {
      "cell_type": "code",
      "source": [],
      "metadata": {
        "id": "OnPCSr4qW5fY"
      },
      "execution_count": null,
      "outputs": []
    },
    {
      "cell_type": "markdown",
      "metadata": {
        "id": "7MnkCw8JLe4R"
      },
      "source": [
        "#### 17. ‘승차총승객수’와 ‘하차총승객수’ 컬럼의 차이를 계산한 ‘승하차총승객수차이’ 컬럼을 생성하세요.\n"
      ]
    },
    {
      "cell_type": "code",
      "source": [],
      "metadata": {
        "id": "AcvbDzT7W7yo"
      },
      "execution_count": null,
      "outputs": []
    },
    {
      "cell_type": "markdown",
      "metadata": {
        "id": "Xu6H0ID3Le4R"
      },
      "source": [
        "#### 18. ‘승하차총승객수차이’의 평균값을 계산하세요.\n",
        "- `mean`"
      ]
    },
    {
      "cell_type": "code",
      "source": [],
      "metadata": {
        "id": "9p1Sq1WrW8oQ"
      },
      "execution_count": null,
      "outputs": []
    },
    {
      "cell_type": "markdown",
      "metadata": {
        "id": "MsGR53MDLe4R"
      },
      "source": [
        "#### 19. 데이터프레임에서 10개의 행을 샘플링하세요.\n",
        "- `sample`"
      ]
    },
    {
      "cell_type": "code",
      "source": [],
      "metadata": {
        "id": "KMDSnRVcW9fQ"
      },
      "execution_count": null,
      "outputs": []
    },
    {
      "cell_type": "markdown",
      "metadata": {
        "id": "KDA8NTxrLe4R"
      },
      "source": [
        "#### 20. 샘플링된 데이터프레임(sample_df)의 값에서 ‘노선명’ 컬럼의 값이 1호선, 2호선, 3호선, 4호선인  값을 영어(line1, line2, line3, line4)로 변경하세요.\n",
        "- `replace`"
      ]
    },
    {
      "cell_type": "code",
      "source": [],
      "metadata": {
        "id": "N9QVbT2JW-ZQ"
      },
      "execution_count": null,
      "outputs": []
    },
    {
      "cell_type": "markdown",
      "metadata": {
        "id": "Dm6O9fnTLe4S"
      },
      "source": [
        "#### 21. 데이터프레임(df)의 ‘사용일자’ 컬럼을 연도-월-일(예: 2021-02-01)의 형태로 표시되도록 수정하세요.\n",
        "- `to_datetime`"
      ]
    },
    {
      "cell_type": "code",
      "source": [],
      "metadata": {
        "id": "5uHG3_vHW_SA"
      },
      "execution_count": null,
      "outputs": []
    },
    {
      "cell_type": "markdown",
      "metadata": {
        "id": "wh1EN-fBLe4S"
      },
      "source": [
        "#### 22. 데이터프레임(df)의 ‘사용일자1’ 컬럼을 새로 생성하고, ‘사용일자’ 컬럼에 있는 값을 datetime64의 타입으로 변환하여 저장하세요.\n",
        "- `to_datetime`"
      ]
    },
    {
      "cell_type": "code",
      "source": [],
      "metadata": {
        "id": "RDdl7EIiXAJa"
      },
      "execution_count": null,
      "outputs": []
    },
    {
      "cell_type": "markdown",
      "source": [
        "#시각화(matplotlib,seaborn)"
      ],
      "metadata": {
        "id": "45jjBVfdXCAR"
      }
    },
    {
      "cell_type": "code",
      "source": [
        "#한국어 다운로드\n",
        "!sudo apt-get install -y fonts-nanum\n",
        "!sudo fc-cache -fv\n",
        "!rm ~/.cache/matplotlib -rf"
      ],
      "metadata": {
        "id": "sXn59dzuPwb8"
      },
      "execution_count": null,
      "outputs": []
    },
    {
      "cell_type": "code",
      "source": [
        "#한국어 적용\n",
        "import matplotlib.pyplot as plt\n",
        "plt.rc('font', family='NanumBarunGothic')\n",
        "plt.rcParams['axes.unicode_minus'] =False"
      ],
      "metadata": {
        "id": "4Xy9p1cgQ8x1"
      },
      "execution_count": null,
      "outputs": []
    },
    {
      "cell_type": "markdown",
      "source": [
        "#1. 노선별 승차총승객수 분포(boxplot사용)"
      ],
      "metadata": {
        "id": "11BnrGCrTq5V"
      }
    },
    {
      "cell_type": "code",
      "source": [],
      "metadata": {
        "id": "yO7aAeX-XQDn"
      },
      "execution_count": null,
      "outputs": []
    },
    {
      "cell_type": "markdown",
      "source": [
        "#2.날짜별 총 승객수 추이(lineplot 사용)\n"
      ],
      "metadata": {
        "id": "lGrYN3IbT0YV"
      }
    },
    {
      "cell_type": "code",
      "source": [],
      "metadata": {
        "id": "KCG9fqLYXPk6"
      },
      "execution_count": null,
      "outputs": []
    },
    {
      "cell_type": "markdown",
      "source": [
        "#3. 노선별 승차 총승객수와 하차총승객수 비교(barplot사용)\n",
        "\n"
      ],
      "metadata": {
        "id": "_zNq1Al0UFhz"
      }
    },
    {
      "cell_type": "code",
      "source": [],
      "metadata": {
        "id": "RCQG3Z0UXR0I"
      },
      "execution_count": null,
      "outputs": []
    },
    {
      "cell_type": "markdown",
      "source": [
        "#4. 특정 날짜에 가장 많은 승차총승객수를 기록한 역 상위 10개\n"
      ],
      "metadata": {
        "id": "MfXIeVRuUcRy"
      }
    },
    {
      "cell_type": "code",
      "source": [],
      "metadata": {
        "id": "cmd3QwCEXSpX"
      },
      "execution_count": null,
      "outputs": []
    },
    {
      "cell_type": "markdown",
      "source": [
        "#5. 승차총승객수와 하차총승객수의 관계\n"
      ],
      "metadata": {
        "id": "WjjJZSOFXWIq"
      }
    },
    {
      "cell_type": "code",
      "source": [],
      "metadata": {
        "id": "P64i65LYXTko"
      },
      "execution_count": null,
      "outputs": []
    },
    {
      "cell_type": "markdown",
      "source": [
        "#6. 노선별 승하차총승객수 차이의 평균값\n"
      ],
      "metadata": {
        "id": "enlP1zSKXu3n"
      }
    },
    {
      "cell_type": "code",
      "source": [],
      "metadata": {
        "id": "bmRPCq1NXUOH"
      },
      "execution_count": null,
      "outputs": []
    },
    {
      "cell_type": "markdown",
      "source": [
        "#7. 날짜별 승차총승객수 상위 5개 역의 승객수 추이"
      ],
      "metadata": {
        "id": "ES8ufZCJYFN4"
      }
    },
    {
      "cell_type": "code",
      "source": [],
      "metadata": {
        "id": "fEOs6I-8XU6Y"
      },
      "execution_count": null,
      "outputs": []
    },
    {
      "cell_type": "markdown",
      "source": [
        "#8. 노선별 역의 개수"
      ],
      "metadata": {
        "id": "6srtDhpCZG8x"
      }
    },
    {
      "cell_type": "code",
      "source": [],
      "metadata": {
        "id": "GENRmWS1XXpP"
      },
      "execution_count": null,
      "outputs": []
    },
    {
      "cell_type": "markdown",
      "source": [
        "#9. 특정 역의 시간대별 승차총승객수 추이"
      ],
      "metadata": {
        "id": "OJj7H87uZjf9"
      }
    },
    {
      "cell_type": "code",
      "source": [],
      "metadata": {
        "id": "xIH6lwnTXYwg"
      },
      "execution_count": null,
      "outputs": []
    },
    {
      "cell_type": "markdown",
      "source": [
        "# 10. 승차총승객수와 하차총승객수의 히스토그램"
      ],
      "metadata": {
        "id": "wHidg3M0ZzxB"
      }
    },
    {
      "cell_type": "code",
      "source": [],
      "metadata": {
        "id": "qz3FfQWvXZpP"
      },
      "execution_count": null,
      "outputs": []
    },
    {
      "cell_type": "markdown",
      "source": [
        "# 11. 특정 노선의 승하차 총승객수 분포"
      ],
      "metadata": {
        "id": "3L1MB03gaQOM"
      }
    },
    {
      "cell_type": "code",
      "source": [],
      "metadata": {
        "id": "Le7xjsOjXak_"
      },
      "execution_count": null,
      "outputs": []
    },
    {
      "cell_type": "markdown",
      "source": [
        "#12. 승하차총승객수 상위 10개 역의 파이차트"
      ],
      "metadata": {
        "id": "imTmw_1talso"
      }
    },
    {
      "cell_type": "code",
      "source": [],
      "metadata": {
        "id": "u0kwYE3jXbR_"
      },
      "execution_count": null,
      "outputs": []
    },
    {
      "cell_type": "markdown",
      "source": [
        "# 13. 일자별 특정 역의 승하차총승객수 합계 추이"
      ],
      "metadata": {
        "id": "suXhyyn6aump"
      }
    },
    {
      "cell_type": "code",
      "source": [],
      "metadata": {
        "id": "6UNPXERTXb3o"
      },
      "execution_count": null,
      "outputs": []
    },
    {
      "cell_type": "markdown",
      "source": [
        "#14. 노선별 승차총승객수 평균 막대 그래프"
      ],
      "metadata": {
        "id": "1OGQYe0DcJKt"
      }
    },
    {
      "cell_type": "code",
      "source": [],
      "metadata": {
        "id": "0xh8DcEUXcc_"
      },
      "execution_count": null,
      "outputs": []
    }
  ],
  "metadata": {
    "colab": {
      "provenance": []
    },
    "kernelspec": {
      "display_name": "Python 3",
      "name": "python3"
    },
    "language_info": {
      "codemirror_mode": {
        "name": "ipython",
        "version": 3
      },
      "file_extension": ".py",
      "mimetype": "text/x-python",
      "name": "python",
      "nbconvert_exporter": "python",
      "pygments_lexer": "ipython3",
      "version": "3.9.19"
    }
  },
  "nbformat": 4,
  "nbformat_minor": 0
}