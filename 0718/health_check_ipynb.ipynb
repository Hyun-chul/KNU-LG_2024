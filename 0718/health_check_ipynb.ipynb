{
  "nbformat": 4,
  "nbformat_minor": 0,
  "metadata": {
    "colab": {
      "provenance": []
    },
    "kernelspec": {
      "name": "python3",
      "display_name": "Python 3"
    },
    "language_info": {
      "name": "python"
    }
  },
  "cells": [
    {
      "cell_type": "code",
      "execution_count": null,
      "metadata": {
        "id": "3SfBqNPKVVC5"
      },
      "outputs": [],
      "source": [
        "import pandas as pd\n",
        "import matplotlib.pyplot as plt\n",
        "import seaborn as sns\n",
        "import numpy as np"
      ]
    },
    {
      "cell_type": "code",
      "source": [
        "# 한글이 포함된 csv파일 불러오기\n",
        "file_path = '/content/health_check.CSV'\n",
        "data = pd.read_csv(file_path, encoding='cp949')\n",
        "data.head()"
      ],
      "metadata": {
        "colab": {
          "base_uri": "https://localhost:8080/",
          "height": 253
        },
        "id": "5DiDooTRWD2x",
        "outputId": "5c58b485-50ad-410d-ea15-821796cbcb3d"
      },
      "execution_count": null,
      "outputs": [
        {
          "output_type": "execute_result",
          "data": {
            "text/plain": [
              "   기준년도  가입자일련번호  시도코드  성별  연령대코드(5세단위)   신장  체중  허리둘레   시력  시력.1  ...  요단백  \\\n",
              "0  2022   702763    41   2           14  160  75  89.0  1.0   1.0  ...  1.0   \n",
              "1  2022   765435    41   2            9  150  45  68.0  1.0   1.0  ...  1.0   \n",
              "2  2022   343621    41   2           13  150  60  78.8  1.0   1.0  ...  1.0   \n",
              "3  2022  3393534    41   2            6  160  50  69.0  1.0   1.0  ...  1.0   \n",
              "4  2022  1716951    41   2            7  160  55  75.0  1.0   1.0  ...  1.0   \n",
              "\n",
              "   혈청크레아티닌  혈청지오티  혈청지피티  감마지티피  흡연상태  음주여부  구강검진수검여부  치아우식증유무  치석  \n",
              "0      0.8   25.0   20.0   15.0   1.0   0.0         0      NaN NaN  \n",
              "1      0.8   19.0   10.0    7.0   1.0   1.0         0      NaN NaN  \n",
              "2      0.8   17.0   15.0   15.0   1.0   1.0         0      NaN NaN  \n",
              "3      0.8   25.0   16.0   13.0   1.0   1.0         0      NaN NaN  \n",
              "4      0.8   22.0   22.0   15.0   1.0   1.0         0      NaN NaN  \n",
              "\n",
              "[5 rows x 30 columns]"
            ],
            "text/html": [
              "\n",
              "  <div id=\"df-78ea734b-f9fd-4d3c-a379-68a94ed587d3\" class=\"colab-df-container\">\n",
              "    <div>\n",
              "<style scoped>\n",
              "    .dataframe tbody tr th:only-of-type {\n",
              "        vertical-align: middle;\n",
              "    }\n",
              "\n",
              "    .dataframe tbody tr th {\n",
              "        vertical-align: top;\n",
              "    }\n",
              "\n",
              "    .dataframe thead th {\n",
              "        text-align: right;\n",
              "    }\n",
              "</style>\n",
              "<table border=\"1\" class=\"dataframe\">\n",
              "  <thead>\n",
              "    <tr style=\"text-align: right;\">\n",
              "      <th></th>\n",
              "      <th>기준년도</th>\n",
              "      <th>가입자일련번호</th>\n",
              "      <th>시도코드</th>\n",
              "      <th>성별</th>\n",
              "      <th>연령대코드(5세단위)</th>\n",
              "      <th>신장</th>\n",
              "      <th>체중</th>\n",
              "      <th>허리둘레</th>\n",
              "      <th>시력</th>\n",
              "      <th>시력.1</th>\n",
              "      <th>...</th>\n",
              "      <th>요단백</th>\n",
              "      <th>혈청크레아티닌</th>\n",
              "      <th>혈청지오티</th>\n",
              "      <th>혈청지피티</th>\n",
              "      <th>감마지티피</th>\n",
              "      <th>흡연상태</th>\n",
              "      <th>음주여부</th>\n",
              "      <th>구강검진수검여부</th>\n",
              "      <th>치아우식증유무</th>\n",
              "      <th>치석</th>\n",
              "    </tr>\n",
              "  </thead>\n",
              "  <tbody>\n",
              "    <tr>\n",
              "      <th>0</th>\n",
              "      <td>2022</td>\n",
              "      <td>702763</td>\n",
              "      <td>41</td>\n",
              "      <td>2</td>\n",
              "      <td>14</td>\n",
              "      <td>160</td>\n",
              "      <td>75</td>\n",
              "      <td>89.0</td>\n",
              "      <td>1.0</td>\n",
              "      <td>1.0</td>\n",
              "      <td>...</td>\n",
              "      <td>1.0</td>\n",
              "      <td>0.8</td>\n",
              "      <td>25.0</td>\n",
              "      <td>20.0</td>\n",
              "      <td>15.0</td>\n",
              "      <td>1.0</td>\n",
              "      <td>0.0</td>\n",
              "      <td>0</td>\n",
              "      <td>NaN</td>\n",
              "      <td>NaN</td>\n",
              "    </tr>\n",
              "    <tr>\n",
              "      <th>1</th>\n",
              "      <td>2022</td>\n",
              "      <td>765435</td>\n",
              "      <td>41</td>\n",
              "      <td>2</td>\n",
              "      <td>9</td>\n",
              "      <td>150</td>\n",
              "      <td>45</td>\n",
              "      <td>68.0</td>\n",
              "      <td>1.0</td>\n",
              "      <td>1.0</td>\n",
              "      <td>...</td>\n",
              "      <td>1.0</td>\n",
              "      <td>0.8</td>\n",
              "      <td>19.0</td>\n",
              "      <td>10.0</td>\n",
              "      <td>7.0</td>\n",
              "      <td>1.0</td>\n",
              "      <td>1.0</td>\n",
              "      <td>0</td>\n",
              "      <td>NaN</td>\n",
              "      <td>NaN</td>\n",
              "    </tr>\n",
              "    <tr>\n",
              "      <th>2</th>\n",
              "      <td>2022</td>\n",
              "      <td>343621</td>\n",
              "      <td>41</td>\n",
              "      <td>2</td>\n",
              "      <td>13</td>\n",
              "      <td>150</td>\n",
              "      <td>60</td>\n",
              "      <td>78.8</td>\n",
              "      <td>1.0</td>\n",
              "      <td>1.0</td>\n",
              "      <td>...</td>\n",
              "      <td>1.0</td>\n",
              "      <td>0.8</td>\n",
              "      <td>17.0</td>\n",
              "      <td>15.0</td>\n",
              "      <td>15.0</td>\n",
              "      <td>1.0</td>\n",
              "      <td>1.0</td>\n",
              "      <td>0</td>\n",
              "      <td>NaN</td>\n",
              "      <td>NaN</td>\n",
              "    </tr>\n",
              "    <tr>\n",
              "      <th>3</th>\n",
              "      <td>2022</td>\n",
              "      <td>3393534</td>\n",
              "      <td>41</td>\n",
              "      <td>2</td>\n",
              "      <td>6</td>\n",
              "      <td>160</td>\n",
              "      <td>50</td>\n",
              "      <td>69.0</td>\n",
              "      <td>1.0</td>\n",
              "      <td>1.0</td>\n",
              "      <td>...</td>\n",
              "      <td>1.0</td>\n",
              "      <td>0.8</td>\n",
              "      <td>25.0</td>\n",
              "      <td>16.0</td>\n",
              "      <td>13.0</td>\n",
              "      <td>1.0</td>\n",
              "      <td>1.0</td>\n",
              "      <td>0</td>\n",
              "      <td>NaN</td>\n",
              "      <td>NaN</td>\n",
              "    </tr>\n",
              "    <tr>\n",
              "      <th>4</th>\n",
              "      <td>2022</td>\n",
              "      <td>1716951</td>\n",
              "      <td>41</td>\n",
              "      <td>2</td>\n",
              "      <td>7</td>\n",
              "      <td>160</td>\n",
              "      <td>55</td>\n",
              "      <td>75.0</td>\n",
              "      <td>1.0</td>\n",
              "      <td>1.0</td>\n",
              "      <td>...</td>\n",
              "      <td>1.0</td>\n",
              "      <td>0.8</td>\n",
              "      <td>22.0</td>\n",
              "      <td>22.0</td>\n",
              "      <td>15.0</td>\n",
              "      <td>1.0</td>\n",
              "      <td>1.0</td>\n",
              "      <td>0</td>\n",
              "      <td>NaN</td>\n",
              "      <td>NaN</td>\n",
              "    </tr>\n",
              "  </tbody>\n",
              "</table>\n",
              "<p>5 rows × 30 columns</p>\n",
              "</div>\n",
              "    <div class=\"colab-df-buttons\">\n",
              "\n",
              "  <div class=\"colab-df-container\">\n",
              "    <button class=\"colab-df-convert\" onclick=\"convertToInteractive('df-78ea734b-f9fd-4d3c-a379-68a94ed587d3')\"\n",
              "            title=\"Convert this dataframe to an interactive table.\"\n",
              "            style=\"display:none;\">\n",
              "\n",
              "  <svg xmlns=\"http://www.w3.org/2000/svg\" height=\"24px\" viewBox=\"0 -960 960 960\">\n",
              "    <path d=\"M120-120v-720h720v720H120Zm60-500h600v-160H180v160Zm220 220h160v-160H400v160Zm0 220h160v-160H400v160ZM180-400h160v-160H180v160Zm440 0h160v-160H620v160ZM180-180h160v-160H180v160Zm440 0h160v-160H620v160Z\"/>\n",
              "  </svg>\n",
              "    </button>\n",
              "\n",
              "  <style>\n",
              "    .colab-df-container {\n",
              "      display:flex;\n",
              "      gap: 12px;\n",
              "    }\n",
              "\n",
              "    .colab-df-convert {\n",
              "      background-color: #E8F0FE;\n",
              "      border: none;\n",
              "      border-radius: 50%;\n",
              "      cursor: pointer;\n",
              "      display: none;\n",
              "      fill: #1967D2;\n",
              "      height: 32px;\n",
              "      padding: 0 0 0 0;\n",
              "      width: 32px;\n",
              "    }\n",
              "\n",
              "    .colab-df-convert:hover {\n",
              "      background-color: #E2EBFA;\n",
              "      box-shadow: 0px 1px 2px rgba(60, 64, 67, 0.3), 0px 1px 3px 1px rgba(60, 64, 67, 0.15);\n",
              "      fill: #174EA6;\n",
              "    }\n",
              "\n",
              "    .colab-df-buttons div {\n",
              "      margin-bottom: 4px;\n",
              "    }\n",
              "\n",
              "    [theme=dark] .colab-df-convert {\n",
              "      background-color: #3B4455;\n",
              "      fill: #D2E3FC;\n",
              "    }\n",
              "\n",
              "    [theme=dark] .colab-df-convert:hover {\n",
              "      background-color: #434B5C;\n",
              "      box-shadow: 0px 1px 3px 1px rgba(0, 0, 0, 0.15);\n",
              "      filter: drop-shadow(0px 1px 2px rgba(0, 0, 0, 0.3));\n",
              "      fill: #FFFFFF;\n",
              "    }\n",
              "  </style>\n",
              "\n",
              "    <script>\n",
              "      const buttonEl =\n",
              "        document.querySelector('#df-78ea734b-f9fd-4d3c-a379-68a94ed587d3 button.colab-df-convert');\n",
              "      buttonEl.style.display =\n",
              "        google.colab.kernel.accessAllowed ? 'block' : 'none';\n",
              "\n",
              "      async function convertToInteractive(key) {\n",
              "        const element = document.querySelector('#df-78ea734b-f9fd-4d3c-a379-68a94ed587d3');\n",
              "        const dataTable =\n",
              "          await google.colab.kernel.invokeFunction('convertToInteractive',\n",
              "                                                    [key], {});\n",
              "        if (!dataTable) return;\n",
              "\n",
              "        const docLinkHtml = 'Like what you see? Visit the ' +\n",
              "          '<a target=\"_blank\" href=https://colab.research.google.com/notebooks/data_table.ipynb>data table notebook</a>'\n",
              "          + ' to learn more about interactive tables.';\n",
              "        element.innerHTML = '';\n",
              "        dataTable['output_type'] = 'display_data';\n",
              "        await google.colab.output.renderOutput(dataTable, element);\n",
              "        const docLink = document.createElement('div');\n",
              "        docLink.innerHTML = docLinkHtml;\n",
              "        element.appendChild(docLink);\n",
              "      }\n",
              "    </script>\n",
              "  </div>\n",
              "\n",
              "\n",
              "<div id=\"df-bacf914b-1e9c-4057-89a0-ba770a402f2b\">\n",
              "  <button class=\"colab-df-quickchart\" onclick=\"quickchart('df-bacf914b-1e9c-4057-89a0-ba770a402f2b')\"\n",
              "            title=\"Suggest charts\"\n",
              "            style=\"display:none;\">\n",
              "\n",
              "<svg xmlns=\"http://www.w3.org/2000/svg\" height=\"24px\"viewBox=\"0 0 24 24\"\n",
              "     width=\"24px\">\n",
              "    <g>\n",
              "        <path d=\"M19 3H5c-1.1 0-2 .9-2 2v14c0 1.1.9 2 2 2h14c1.1 0 2-.9 2-2V5c0-1.1-.9-2-2-2zM9 17H7v-7h2v7zm4 0h-2V7h2v10zm4 0h-2v-4h2v4z\"/>\n",
              "    </g>\n",
              "</svg>\n",
              "  </button>\n",
              "\n",
              "<style>\n",
              "  .colab-df-quickchart {\n",
              "      --bg-color: #E8F0FE;\n",
              "      --fill-color: #1967D2;\n",
              "      --hover-bg-color: #E2EBFA;\n",
              "      --hover-fill-color: #174EA6;\n",
              "      --disabled-fill-color: #AAA;\n",
              "      --disabled-bg-color: #DDD;\n",
              "  }\n",
              "\n",
              "  [theme=dark] .colab-df-quickchart {\n",
              "      --bg-color: #3B4455;\n",
              "      --fill-color: #D2E3FC;\n",
              "      --hover-bg-color: #434B5C;\n",
              "      --hover-fill-color: #FFFFFF;\n",
              "      --disabled-bg-color: #3B4455;\n",
              "      --disabled-fill-color: #666;\n",
              "  }\n",
              "\n",
              "  .colab-df-quickchart {\n",
              "    background-color: var(--bg-color);\n",
              "    border: none;\n",
              "    border-radius: 50%;\n",
              "    cursor: pointer;\n",
              "    display: none;\n",
              "    fill: var(--fill-color);\n",
              "    height: 32px;\n",
              "    padding: 0;\n",
              "    width: 32px;\n",
              "  }\n",
              "\n",
              "  .colab-df-quickchart:hover {\n",
              "    background-color: var(--hover-bg-color);\n",
              "    box-shadow: 0 1px 2px rgba(60, 64, 67, 0.3), 0 1px 3px 1px rgba(60, 64, 67, 0.15);\n",
              "    fill: var(--button-hover-fill-color);\n",
              "  }\n",
              "\n",
              "  .colab-df-quickchart-complete:disabled,\n",
              "  .colab-df-quickchart-complete:disabled:hover {\n",
              "    background-color: var(--disabled-bg-color);\n",
              "    fill: var(--disabled-fill-color);\n",
              "    box-shadow: none;\n",
              "  }\n",
              "\n",
              "  .colab-df-spinner {\n",
              "    border: 2px solid var(--fill-color);\n",
              "    border-color: transparent;\n",
              "    border-bottom-color: var(--fill-color);\n",
              "    animation:\n",
              "      spin 1s steps(1) infinite;\n",
              "  }\n",
              "\n",
              "  @keyframes spin {\n",
              "    0% {\n",
              "      border-color: transparent;\n",
              "      border-bottom-color: var(--fill-color);\n",
              "      border-left-color: var(--fill-color);\n",
              "    }\n",
              "    20% {\n",
              "      border-color: transparent;\n",
              "      border-left-color: var(--fill-color);\n",
              "      border-top-color: var(--fill-color);\n",
              "    }\n",
              "    30% {\n",
              "      border-color: transparent;\n",
              "      border-left-color: var(--fill-color);\n",
              "      border-top-color: var(--fill-color);\n",
              "      border-right-color: var(--fill-color);\n",
              "    }\n",
              "    40% {\n",
              "      border-color: transparent;\n",
              "      border-right-color: var(--fill-color);\n",
              "      border-top-color: var(--fill-color);\n",
              "    }\n",
              "    60% {\n",
              "      border-color: transparent;\n",
              "      border-right-color: var(--fill-color);\n",
              "    }\n",
              "    80% {\n",
              "      border-color: transparent;\n",
              "      border-right-color: var(--fill-color);\n",
              "      border-bottom-color: var(--fill-color);\n",
              "    }\n",
              "    90% {\n",
              "      border-color: transparent;\n",
              "      border-bottom-color: var(--fill-color);\n",
              "    }\n",
              "  }\n",
              "</style>\n",
              "\n",
              "  <script>\n",
              "    async function quickchart(key) {\n",
              "      const quickchartButtonEl =\n",
              "        document.querySelector('#' + key + ' button');\n",
              "      quickchartButtonEl.disabled = true;  // To prevent multiple clicks.\n",
              "      quickchartButtonEl.classList.add('colab-df-spinner');\n",
              "      try {\n",
              "        const charts = await google.colab.kernel.invokeFunction(\n",
              "            'suggestCharts', [key], {});\n",
              "      } catch (error) {\n",
              "        console.error('Error during call to suggestCharts:', error);\n",
              "      }\n",
              "      quickchartButtonEl.classList.remove('colab-df-spinner');\n",
              "      quickchartButtonEl.classList.add('colab-df-quickchart-complete');\n",
              "    }\n",
              "    (() => {\n",
              "      let quickchartButtonEl =\n",
              "        document.querySelector('#df-bacf914b-1e9c-4057-89a0-ba770a402f2b button');\n",
              "      quickchartButtonEl.style.display =\n",
              "        google.colab.kernel.accessAllowed ? 'block' : 'none';\n",
              "    })();\n",
              "  </script>\n",
              "</div>\n",
              "\n",
              "    </div>\n",
              "  </div>\n"
            ],
            "application/vnd.google.colaboratory.intrinsic+json": {
              "type": "dataframe",
              "variable_name": "data"
            }
          },
          "metadata": {},
          "execution_count": 77
        }
      ]
    },
    {
      "cell_type": "code",
      "source": [
        "#한글폰트 다운로드\n",
        "!sudo apt-get install -y fonts-nanum\n",
        "!sudo fc-cache -fv\n",
        "!rm ~/.cache/matplotlib -rf"
      ],
      "metadata": {
        "colab": {
          "base_uri": "https://localhost:8080/"
        },
        "id": "F0ZUn_EXWP-V",
        "outputId": "80d59a32-7154-47b8-98d8-c56923bbe96f"
      },
      "execution_count": null,
      "outputs": [
        {
          "output_type": "stream",
          "name": "stdout",
          "text": [
            "Reading package lists... Done\n",
            "Building dependency tree... Done\n",
            "Reading state information... Done\n",
            "fonts-nanum is already the newest version (20200506-1).\n",
            "0 upgraded, 0 newly installed, 0 to remove and 45 not upgraded.\n",
            "/usr/share/fonts: caching, new cache contents: 0 fonts, 1 dirs\n",
            "/usr/share/fonts/truetype: caching, new cache contents: 0 fonts, 3 dirs\n",
            "/usr/share/fonts/truetype/humor-sans: caching, new cache contents: 1 fonts, 0 dirs\n",
            "/usr/share/fonts/truetype/liberation: caching, new cache contents: 16 fonts, 0 dirs\n",
            "/usr/share/fonts/truetype/nanum: caching, new cache contents: 12 fonts, 0 dirs\n",
            "/usr/local/share/fonts: caching, new cache contents: 0 fonts, 0 dirs\n",
            "/root/.local/share/fonts: skipping, no such directory\n",
            "/root/.fonts: skipping, no such directory\n",
            "/usr/share/fonts/truetype: skipping, looped directory detected\n",
            "/usr/share/fonts/truetype/humor-sans: skipping, looped directory detected\n",
            "/usr/share/fonts/truetype/liberation: skipping, looped directory detected\n",
            "/usr/share/fonts/truetype/nanum: skipping, looped directory detected\n",
            "/var/cache/fontconfig: cleaning cache directory\n",
            "/root/.cache/fontconfig: not cleaning non-existent cache directory\n",
            "/root/.fontconfig: not cleaning non-existent cache directory\n",
            "fc-cache: succeeded\n"
          ]
        }
      ]
    },
    {
      "cell_type": "code",
      "source": [
        "#한글폰트 적용\n",
        "import matplotlib.pyplot as plt\n",
        "plt.rc('font', family='NanumBarunGothic')\n",
        "plt.rcParams['axes.unicode_minus'] =False"
      ],
      "metadata": {
        "id": "8jMFJjXzWQS6"
      },
      "execution_count": null,
      "outputs": []
    },
    {
      "cell_type": "markdown",
      "source": [
        "## 1.나이 분포를 히스토그램으로 나타내세요\n"
      ],
      "metadata": {
        "id": "TXjJPWmdXYuE"
      }
    },
    {
      "cell_type": "code",
      "source": [],
      "metadata": {
        "id": "5IsRkadvT8bE"
      },
      "execution_count": null,
      "outputs": []
    },
    {
      "cell_type": "markdown",
      "source": [
        "## 2.남성과 여성 참가자의 수를 바 차트로 나타내기"
      ],
      "metadata": {
        "id": "_GlO9aCHXjWy"
      }
    },
    {
      "cell_type": "code",
      "source": [],
      "metadata": {
        "id": "Sg4vTiy2T8y9"
      },
      "execution_count": null,
      "outputs": []
    },
    {
      "cell_type": "markdown",
      "source": [
        "## 3. 키와 몸무게를 사용하여 BMI를 게산하고, BMI 값의 히스토그램을 만드세요\n",
        "- BMI = 체중/(신장/100)*2"
      ],
      "metadata": {
        "id": "TanlhNIWX_1Q"
      }
    },
    {
      "cell_type": "code",
      "source": [],
      "metadata": {
        "id": "VcTCnF9UT9XN"
      },
      "execution_count": null,
      "outputs": []
    },
    {
      "cell_type": "markdown",
      "source": [
        "##4. 성별에 따른 BMI 값의 박스 플롯을 만드세요."
      ],
      "metadata": {
        "id": "6EoDKMqAcmJA"
      }
    },
    {
      "cell_type": "code",
      "source": [],
      "metadata": {
        "id": "3OLy6UPHT_Fu"
      },
      "execution_count": null,
      "outputs": []
    },
    {
      "cell_type": "markdown",
      "source": [
        "##5. 수축기혈압과 이완기혈압을 비교하는 산점도를 만드세요"
      ],
      "metadata": {
        "id": "qeG68fB6dOCY"
      }
    },
    {
      "cell_type": "code",
      "source": [],
      "metadata": {
        "id": "jEZ9Z7E-T_wk"
      },
      "execution_count": null,
      "outputs": []
    },
    {
      "cell_type": "markdown",
      "source": [
        "##6. 연령대별 평균 수축기혈압을 선 그래프로 나타내세요."
      ],
      "metadata": {
        "id": "PzxdJtpZdUWL"
      }
    },
    {
      "cell_type": "code",
      "source": [],
      "metadata": {
        "id": "_fM49uN1UBKs"
      },
      "execution_count": null,
      "outputs": []
    },
    {
      "cell_type": "markdown",
      "source": [
        "##7. 총콜레스테롤 수치의 KDE 플롯을 만드세요"
      ],
      "metadata": {
        "id": "0AzUOPJQdeRz"
      }
    },
    {
      "cell_type": "code",
      "source": [],
      "metadata": {
        "id": "zQWBYUm4UCHM"
      },
      "execution_count": null,
      "outputs": []
    },
    {
      "cell_type": "markdown",
      "source": [
        "##8. 성별에 따른 총콜레스테롤의 바이올린 플롯을 만드세요."
      ],
      "metadata": {
        "id": "n0zA7X9ydqCu"
      }
    },
    {
      "cell_type": "code",
      "source": [],
      "metadata": {
        "id": "_fT21ABpUDK9"
      },
      "execution_count": null,
      "outputs": []
    },
    {
      "cell_type": "markdown",
      "source": [
        "## 9. 허리둘레의 히스토그램을 만드세요"
      ],
      "metadata": {
        "id": "2NHPzPq6dxmN"
      }
    },
    {
      "cell_type": "code",
      "source": [],
      "metadata": {
        "id": "tSLwndUvUV2g"
      },
      "execution_count": null,
      "outputs": []
    },
    {
      "cell_type": "markdown",
      "source": [
        "##10. 연령대별 평균 허리둘레를 바 차트로 나타내세요."
      ],
      "metadata": {
        "id": "O95YprqxePXi"
      }
    },
    {
      "cell_type": "code",
      "source": [],
      "metadata": {
        "id": "Yb72ycSEUWcg"
      },
      "execution_count": null,
      "outputs": []
    },
    {
      "cell_type": "markdown",
      "source": [
        "## 11. 흡연자와 비흡연자의 수를 나타내는 카운트 플롯을 만드세요"
      ],
      "metadata": {
        "id": "6NtXIMek8s7C"
      }
    },
    {
      "cell_type": "code",
      "source": [],
      "metadata": {
        "id": "4oL2__MuUXiz"
      },
      "execution_count": null,
      "outputs": []
    },
    {
      "cell_type": "markdown",
      "source": [
        "##12. 음주 여부에 따른 평균 수축기혈압을 바 차트로 나타내세요"
      ],
      "metadata": {
        "id": "sVbd7J-I8r40"
      }
    },
    {
      "cell_type": "code",
      "source": [],
      "metadata": {
        "id": "JctR8AFpUYB6"
      },
      "execution_count": null,
      "outputs": []
    },
    {
      "cell_type": "markdown",
      "source": [
        "## 13. 결측치가 10% 이상인 열을 식별하고, 각 열의 결측치 비율을 바 차트로 나타내세요."
      ],
      "metadata": {
        "id": "gLG_yKVw-BMq"
      }
    },
    {
      "cell_type": "code",
      "source": [],
      "metadata": {
        "id": "CF_GIbp0UYpb"
      },
      "execution_count": null,
      "outputs": []
    },
    {
      "cell_type": "markdown",
      "source": [
        "## 14. 허리둘레 열의 결측치를 중앙값으로 채우고, 채운 데이터의 히스토그램을 만드세요."
      ],
      "metadata": {
        "id": "4bYz1vbh-lfA"
      }
    },
    {
      "cell_type": "code",
      "source": [],
      "metadata": {
        "id": "6Jl8xIj7UZOy"
      },
      "execution_count": null,
      "outputs": []
    },
    {
      "cell_type": "markdown",
      "source": [
        "## 15. 공복혈당 수치의 히스토그램을 만드세요"
      ],
      "metadata": {
        "id": "ggks-nVg-u_P"
      }
    },
    {
      "cell_type": "code",
      "source": [],
      "metadata": {
        "id": "cDY8hvLtUZ26"
      },
      "execution_count": null,
      "outputs": []
    },
    {
      "cell_type": "markdown",
      "source": [
        "## 16. 연령대별 평균 식전혈당을 선 그래프로 나타내세요"
      ],
      "metadata": {
        "id": "D0nerejgA8NX"
      }
    },
    {
      "cell_type": "code",
      "source": [],
      "metadata": {
        "id": "grqfIlGIUaci"
      },
      "execution_count": null,
      "outputs": []
    },
    {
      "cell_type": "markdown",
      "source": [
        "## 17. BMI가 25 이상인 경우를 비만으로 간주하여 비만 여부에 따른 총콜레스테롤의 바이올린 플롯을 만드세요."
      ],
      "metadata": {
        "id": "WcyD6Jr0Bx1u"
      }
    },
    {
      "cell_type": "code",
      "source": [],
      "metadata": {
        "id": "MxZ_wsRUUbQy"
      },
      "execution_count": null,
      "outputs": []
    },
    {
      "cell_type": "markdown",
      "source": [
        "## 18. 비만 여부에 따른 수축기혈압과 이완기혈압의 박스 플롯을 만드세요."
      ],
      "metadata": {
        "id": "rn-ABTr_CHn-"
      }
    },
    {
      "cell_type": "code",
      "source": [],
      "metadata": {
        "id": "8q_Qi0eUUcAC"
      },
      "execution_count": null,
      "outputs": []
    },
    {
      "cell_type": "markdown",
      "source": [
        "##19. 수축기혈압과 식전혈당의 상관관계를 나타내는 산점도를 만드세요."
      ],
      "metadata": {
        "id": "nge1UOOlD0pV"
      }
    },
    {
      "cell_type": "code",
      "source": [],
      "metadata": {
        "id": "xSdfH3TEUcgl"
      },
      "execution_count": null,
      "outputs": []
    },
    {
      "cell_type": "markdown",
      "source": [
        "##20. 이완기혈압과 식전혈당의 상관관계를 나타내는 산점도를 만드세요."
      ],
      "metadata": {
        "id": "NlfFCcLEEt6d"
      }
    },
    {
      "cell_type": "code",
      "source": [],
      "metadata": {
        "id": "1jOXT4JUUdXx"
      },
      "execution_count": null,
      "outputs": []
    },
    {
      "cell_type": "markdown",
      "source": [
        "##21. 신장과 체중의 상관 관계를 나타내는 산점도를 만드세요."
      ],
      "metadata": {
        "id": "MkzImG7YFVbc"
      }
    },
    {
      "cell_type": "code",
      "source": [],
      "metadata": {
        "id": "OS9OiwoKUeAD"
      },
      "execution_count": null,
      "outputs": []
    },
    {
      "cell_type": "markdown",
      "source": [
        "##22. 성별에 따른 신장의 박스플롯을 만드세요."
      ],
      "metadata": {
        "id": "vm-1qM_gFb_7"
      }
    },
    {
      "cell_type": "code",
      "source": [],
      "metadata": {
        "id": "tGGej3jXUedy"
      },
      "execution_count": null,
      "outputs": []
    },
    {
      "cell_type": "markdown",
      "source": [
        "##23. 신장과 체중의 상관 관계를 나타내는 산점도를 만드세요."
      ],
      "metadata": {
        "id": "wlSa6fylHp4Y"
      }
    },
    {
      "cell_type": "code",
      "source": [],
      "metadata": {
        "id": "zNqRVT-IUfFi"
      },
      "execution_count": null,
      "outputs": []
    },
    {
      "cell_type": "markdown",
      "source": [
        "##24. 성별에 따른 신장의 박스플롯을 만드세요."
      ],
      "metadata": {
        "id": "1hajFIHwHqNA"
      }
    },
    {
      "cell_type": "code",
      "source": [],
      "metadata": {
        "id": "M5YXgECPUf8f"
      },
      "execution_count": null,
      "outputs": []
    },
    {
      "cell_type": "markdown",
      "source": [
        "##25. 혈압에 따른 식전혈당의 박스플롯을 만드세요."
      ],
      "metadata": {
        "id": "ULS6TnK8H0xG"
      }
    },
    {
      "cell_type": "code",
      "source": [],
      "metadata": {
        "id": "9SkhENnoUgZ6"
      },
      "execution_count": null,
      "outputs": []
    },
    {
      "cell_type": "markdown",
      "source": [
        "##26. 비만여부에 따른 공복혈당의 KDE 플롯을 만드세요."
      ],
      "metadata": {
        "id": "h4qS6ZYEH5k9"
      }
    },
    {
      "cell_type": "code",
      "source": [],
      "metadata": {
        "id": "a7YVYruRUgyT"
      },
      "execution_count": null,
      "outputs": []
    },
    {
      "cell_type": "markdown",
      "source": [
        "## 27. 연령대코드에 따른 수축기혈압의 박스플롯을 만드세요."
      ],
      "metadata": {
        "id": "CPwDu9EzIAOu"
      }
    },
    {
      "cell_type": "code",
      "source": [],
      "metadata": {
        "id": "Y1o3VtgYUiox"
      },
      "execution_count": null,
      "outputs": []
    },
    {
      "cell_type": "markdown",
      "source": [
        "##28. 연령대코드에 따른 이완기혈압의 박스플롯을 만드세요."
      ],
      "metadata": {
        "id": "zVCuC0bSIFB-"
      }
    },
    {
      "cell_type": "code",
      "source": [],
      "metadata": {
        "id": "NVndyfy2Ui-5"
      },
      "execution_count": null,
      "outputs": []
    },
    {
      "cell_type": "markdown",
      "source": [
        "##29. 연령대별 음주 여부를 나타내는 카운트 플롯을 만드세요."
      ],
      "metadata": {
        "id": "Fqq7jLDaJFtL"
      }
    },
    {
      "cell_type": "code",
      "source": [],
      "metadata": {
        "id": "FqGLoNREUjTh"
      },
      "execution_count": null,
      "outputs": []
    },
    {
      "cell_type": "markdown",
      "source": [
        "##30. 연령대별 평균 음주 여부를 바 차트로 나타내세요."
      ],
      "metadata": {
        "id": "t-oN4nDLJKgj"
      }
    },
    {
      "cell_type": "code",
      "source": [],
      "metadata": {
        "id": "H6XcsTFhUjnx"
      },
      "execution_count": null,
      "outputs": []
    },
    {
      "cell_type": "markdown",
      "source": [
        "## 31. 수축기혈압과 체중의 상관 관계를 나타내는 산점도를 만드세요."
      ],
      "metadata": {
        "id": "9L16nEERLcb9"
      }
    },
    {
      "cell_type": "code",
      "source": [],
      "metadata": {
        "id": "kjYlexnGUk0J"
      },
      "execution_count": null,
      "outputs": []
    },
    {
      "cell_type": "markdown",
      "source": [
        "##32. 이완기혈압과 체중의 상관관계를 나타내는 산점도를 만드세요."
      ],
      "metadata": {
        "id": "6_SDhsq1LmBH"
      }
    },
    {
      "cell_type": "code",
      "source": [],
      "metadata": {
        "id": "vh1tyQXfUlGq"
      },
      "execution_count": null,
      "outputs": []
    },
    {
      "cell_type": "markdown",
      "source": [
        "##33. 연령대별 식전혈당의 평균을 나타내는 바 차트를 만드세요."
      ],
      "metadata": {
        "id": "8mSZNVtTMGyJ"
      }
    },
    {
      "cell_type": "code",
      "source": [],
      "metadata": {
        "id": "95_8tl-wUmHb"
      },
      "execution_count": null,
      "outputs": []
    },
    {
      "cell_type": "markdown",
      "source": [
        "##34. 연령대별 식전혈당의 박스플롯을 만드세요."
      ],
      "metadata": {
        "id": "e202l_aaMWKo"
      }
    },
    {
      "cell_type": "code",
      "source": [],
      "metadata": {
        "id": "aKYiAeRNUmdZ"
      },
      "execution_count": null,
      "outputs": []
    },
    {
      "cell_type": "markdown",
      "source": [
        "## 35. 흡연 상태와 혈압 분석\n",
        "- 흡연 상태에 따른 수축기혈압의 박스 플롯을 만드세요.\n",
        "- 흡연 상태에 따른 이완기 혈압의 박스 플롯을 만드세요."
      ],
      "metadata": {
        "id": "unWGaZLNN2Xu"
      }
    },
    {
      "cell_type": "code",
      "source": [],
      "metadata": {
        "id": "QjGgVwIPUnsq"
      },
      "execution_count": null,
      "outputs": []
    },
    {
      "cell_type": "code",
      "source": [],
      "metadata": {
        "id": "NDcHsdUpUoOK"
      },
      "execution_count": null,
      "outputs": []
    }
  ]
}