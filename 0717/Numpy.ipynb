{
  "cells": [
    {
      "cell_type": "markdown",
      "metadata": {
        "id": "xO_ddx9tnSiS"
      },
      "source": [
        "# Numpy 실습 (7/17)\n",
        "\n",
        "### 1. NumPy 배열 생성 및 기본 연산\n",
        "\n",
        "1-1. 배열 `a = [1, 2, 3]`과 `b = [4, 5, 6`을 생성하고 이 배열을 더하세요.\n",
        "\n",
        "1-2. 배열 `a`와 `b`를 곱하세요.\n",
        "\n",
        "### 2. 배열 생성 함수 사용\n",
        "\n",
        "2-1. 2x3 형태의 0으로 초기화된 배열을 생성하세요.\n",
        "\n",
        "2-2. 2x3 형태의 1로 초기화된 배열을 생성하세요.\n",
        "\n",
        "2-3. 2x3 형태의 랜덤 값으로 채워진 배열을 생성하세요.\n",
        "\n",
        "\n",
        "### 3. 배열 인덱싱 및 슬라이싱\n",
        "3-1. 배열 `arr = [10, 20, 30, 40, 50]`에서 인덱스 1의 요소를 출력하세요.\n",
        "\n",
        "3-2. 배열 `arr`에서 인덱스 1부터 3까지의 요소를 출력하세요.\n",
        "\n",
        "### 4. 배열 모양 변경\n",
        "4-1. 배열 `arr = [[1, 2, 3], [4, 5, 6]]`의 모양을 3x2로 변경하세요.\n",
        "\n",
        "### 5. 배열 결합\n",
        "5-1. 배열 `a = [[1, 2], [3, 4]]`와 `b = [[5, 6]]`을 수직으로 결합하세요.\n",
        "\n",
        "5-2. 배열 `a`와 `b`를 수평으로 결합하세요.\n",
        "\n",
        "### 6. 배열 분할\n",
        "6-1. 배열 `arr = [[1, 2, 3], [4, 5, 6]]`을 수평으로 3등분하세요.\n",
        "\n",
        "6-2. 배열 `arr`을 수직으로 2등분하세요.\n",
        "\n",
        "\n",
        "### 7. 배열의 수학적 연산\n",
        "7-1. 배열 `arr = [1, 2, 3, 4, 5]`의 합계를 구하세요.\n",
        "\n",
        "7-2. 배열 `arr`의 평균을 구하세요.\n",
        "\n",
        "7-3. 배열 `arr`의 표준 편차를 구하세요.\n",
        "\n",
        "### 8. 논리 연산\n",
        "8-1. 배열 `arr = [10, 20, 30, 40, 50]`에서 20보다 큰 요소를 출력하세요.\n",
        "\n",
        "\n",
        "### 9. 난수 생성 및 시드 설정\n",
        "9-1. 3x3 형태의 난수 배열을 생성하세요.\n",
        "\n",
        "9-2. 시드를 42로 설정한 후, 3x3 형태의 난수 배열을 생성하세요.\n",
        "\n",
        "### 10. 배열 복사\n",
        "10-1. 배열 `arr = [1, 2, 3, 4, 5]`의 뷰를 생성하고 첫 번째 요소를 10으로 변경하세요. 원본 배열을 확인하세요.\n",
        "\n",
        "10-2. 배열 `arr`의 깊은 복사를 생성하고 첫 번째 요소를 20으로 변경하세요. 원본 배열을 확인하세요.\n",
        "\n",
        "### 11. 배열 정렬\n",
        "11-1. 배열 `arr = [5, 2, 9, 1, 5, 6]`을 정렬하세요.\n",
        "\n",
        "11-2.정렬된 배열의 인덱스를 반환하세요.\n",
        "\n",
        "\n",
        "### 12. 배열의 유니크 값 찾기\n",
        "12-1. 배열 `arr = [1, 2, 2, 3, 4, 4, 4, 5]`에서 유니크 값을 찾으세요.\n",
        "\n",
        "### 13. 행렬 곱셈\n",
        "13-1. 배열 `a = [[1, 2], [3, 4]]`와 `b = [[5, 6], [7, 8]]`의 행렬 곱을 계산하세요.\n",
        "\n",
        "\n",
        "### 14. 조건부 선택\n",
        "14-1. 배열 `arr = [1, 2, 3, 4, 5, 6, 7, 8, 9, 10]`에서 짝수를 선택하세요.\n",
        "\n",
        "\n",
        "\n",
        "### 15. 브로드캐스팅\n",
        "15-1. 배열 `a = [[1, 2, 3], [4, 5, 6]]`과 배열 `b = [1, 0, 1]`을 더하세요."
      ]
    },
    {
      "cell_type": "code",
      "execution_count": null,
      "metadata": {
        "id": "GIPhtKGNplLZ"
      },
      "outputs": [],
      "source": [
        "# 패키지 불러오기\n",
        "import numpy as np"
      ]
    },
    {
      "cell_type": "markdown",
      "metadata": {
        "id": "jpfawb30phFl"
      },
      "source": [
        "### 1. NumPy 배열 생성 및 기본 연산\n",
        "\n",
        "1-1. 배열 `a = [1, 2, 3]`과 `b = [4, 5, 6`을 생성하고 이 배열을 더하세요.\n",
        "\n",
        "1-2. 배열 `a`와 `b`를 곱하세요."
      ]
    },
    {
      "cell_type": "code",
      "execution_count": null,
      "metadata": {
        "colab": {
          "base_uri": "https://localhost:8080/"
        },
        "id": "9T16Ee57pgNe",
        "outputId": "93db01ff-bb58-4045-bb71-86480cd89eb8"
      },
      "outputs": [
        {
          "name": "stdout",
          "output_type": "stream",
          "text": [
            "[1 2 3]\n",
            "[4 5 6]\n"
          ]
        }
      ],
      "source": []
    },
    {
      "cell_type": "markdown",
      "metadata": {
        "id": "GKGuhtykpuYo"
      },
      "source": [
        "### 2. 배열 생성 함수 사용\n",
        "\n",
        "2-1. 2x3 형태의 0으로 초기화된 배열을 생성하세요.\n",
        "\n",
        "2-2. 2x3 형태의 1로 초기화된 배열을 생성하세요.\n",
        "\n",
        "2-3. 2x3 형태의 랜덤 값으로 채워진 배열을 생성하세요."
      ]
    },
    {
      "cell_type": "code",
      "execution_count": null,
      "metadata": {
        "colab": {
          "base_uri": "https://localhost:8080/"
        },
        "id": "_fOdAPigpsGe",
        "outputId": "ad1d25bf-53f1-4a0b-e6b8-9349531c4e4f"
      },
      "outputs": [
        {
          "name": "stdout",
          "output_type": "stream",
          "text": [
            "Zeros array:\n",
            " [[0. 0. 0.]\n",
            " [0. 0. 0.]]\n"
          ]
        }
      ],
      "source": []
    },
    {
      "cell_type": "markdown",
      "metadata": {
        "id": "QMCTM2X4p-pZ"
      },
      "source": [
        "### 3. 배열 인덱싱 및 슬라이싱\n",
        "3-1. 배열 `arr = [10, 20, 30, 40, 50]`에서 인덱스 1의 요소를 출력하세요.\n",
        "\n",
        "3-2. 배열 `arr`에서 인덱스 1부터 3까지의 요소를 출력하세요."
      ]
    },
    {
      "cell_type": "code",
      "execution_count": null,
      "metadata": {
        "colab": {
          "base_uri": "https://localhost:8080/"
        },
        "id": "cs4emF2IpyWn",
        "outputId": "316f7122-31d0-4307-b6d8-677e245a9149"
      },
      "outputs": [
        {
          "name": "stdout",
          "output_type": "stream",
          "text": [
            "[10 20 30 40 50]\n"
          ]
        }
      ],
      "source": []
    },
    {
      "cell_type": "markdown",
      "metadata": {
        "id": "4CVIuYcfqHfu"
      },
      "source": [
        "\n",
        "### 4. 배열 모양 변경\n",
        "4-1. 배열 `arr = [[1, 2, 3], [4, 5, 6]]`의 모양을 3x2로 변경하세요."
      ]
    },
    {
      "cell_type": "code",
      "execution_count": null,
      "metadata": {
        "colab": {
          "base_uri": "https://localhost:8080/"
        },
        "id": "exaMh9t4qgTA",
        "outputId": "48b84125-536e-4271-d429-c50b7dcd9497"
      },
      "outputs": [
        {
          "name": "stdout",
          "output_type": "stream",
          "text": [
            "[[1 2 3]\n",
            " [4 5 6]]\n"
          ]
        }
      ],
      "source": []
    },
    {
      "cell_type": "markdown",
      "metadata": {
        "id": "FNfcWiEvqLFc"
      },
      "source": [
        "### 5. 배열 결합\n",
        "5-1. 배열 `a = [[1, 2], [3, 4]]`와 `b = [[5, 6]]`을 수직으로 결합하세요.\n",
        "\n",
        "5-2. 배열 `a`와 `b`를 수평으로 결합하세요."
      ]
    },
    {
      "cell_type": "code",
      "execution_count": null,
      "metadata": {
        "colab": {
          "base_uri": "https://localhost:8080/"
        },
        "id": "YYWKZg8RqN8g",
        "outputId": "2e923888-9496-401a-860a-6d07df3ced4e"
      },
      "outputs": [
        {
          "name": "stdout",
          "output_type": "stream",
          "text": [
            "Horizontal stack:\n",
            " [[1 2 5]\n",
            " [3 4 6]]\n"
          ]
        }
      ],
      "source": []
    },
    {
      "cell_type": "markdown",
      "metadata": {
        "id": "Mg82PNeMqP5F"
      },
      "source": [
        "### 6. 배열 분할\n",
        "6-1. 배열 `arr = [[1, 2, 3], [4, 5, 6]]`을 수평으로 3등분하세요.\n",
        "\n",
        "6-2. 배열 `arr`을 수직으로 2등분하세요."
      ]
    },
    {
      "cell_type": "code",
      "execution_count": null,
      "metadata": {
        "colab": {
          "base_uri": "https://localhost:8080/"
        },
        "id": "-2SwcyHEqmcg",
        "outputId": "2d2f1e45-3ef2-4f4d-a438-d7d0ac95692e"
      },
      "outputs": [
        {
          "name": "stdout",
          "output_type": "stream",
          "text": [
            "Vertical split: [array([[1, 2, 3]]), array([[4, 5, 6]])]\n"
          ]
        }
      ],
      "source": []
    },
    {
      "cell_type": "markdown",
      "metadata": {
        "id": "kQ8RsbjFqouN"
      },
      "source": [
        "### 7. 배열의 수학적 연산\n",
        "7-1. 배열 `arr = [1, 2, 3, 4, 5]`의 합계를 구하세요.\n",
        "\n",
        "7-2. 배열 `arr`의 평균을 구하세요.\n",
        "\n",
        "7-3. 배열 `arr`의 표준 편차를 구하세요."
      ]
    },
    {
      "cell_type": "code",
      "execution_count": null,
      "metadata": {
        "colab": {
          "base_uri": "https://localhost:8080/"
        },
        "id": "uYEsXFJBqsWz",
        "outputId": "f4ac84be-eb37-4fc6-e60a-dc337e6c200d"
      },
      "outputs": [
        {
          "name": "stdout",
          "output_type": "stream",
          "text": [
            "Standard Deviation: 1.4142135623730951\n"
          ]
        }
      ],
      "source": []
    },
    {
      "cell_type": "markdown",
      "metadata": {
        "id": "FJqdJw7tqvmf"
      },
      "source": [
        "### 8. 논리 연산\n",
        "8-1. 배열 `arr = [10, 20, 30, 40, 50]`에서 20보다 큰 요소를 출력하세요."
      ]
    },
    {
      "cell_type": "code",
      "execution_count": null,
      "metadata": {
        "colab": {
          "base_uri": "https://localhost:8080/"
        },
        "id": "Wi6cc-vXqxg8",
        "outputId": "d8111e91-7b10-48c5-d608-e4e19f45e598"
      },
      "outputs": [
        {
          "name": "stdout",
          "output_type": "stream",
          "text": [
            "Elements greater than 20: [30 40 50]\n"
          ]
        }
      ],
      "source": []
    },
    {
      "cell_type": "markdown",
      "metadata": {
        "id": "hlkMRfcwq0Op"
      },
      "source": [
        "### 9. 난수 생성 및 시드 설정\n",
        "9-1. 3x3 형태의 난수 배열을 생성하세요.\n",
        "\n",
        "9-2. 시드를 42로 설정한 후, 3x3 형태의 난수 배열을 생성하세요."
      ]
    },
    {
      "cell_type": "code",
      "execution_count": null,
      "metadata": {
        "colab": {
          "base_uri": "https://localhost:8080/"
        },
        "id": "IqES89_Qq1Xv",
        "outputId": "e42ed3ae-219b-445a-c839-39be35206076"
      },
      "outputs": [
        {
          "name": "stdout",
          "output_type": "stream",
          "text": [
            "Seeded random array:\n",
            " [[0.37454012 0.95071431 0.73199394]\n",
            " [0.59865848 0.15601864 0.15599452]\n",
            " [0.05808361 0.86617615 0.60111501]]\n"
          ]
        }
      ],
      "source": []
    },
    {
      "cell_type": "markdown",
      "metadata": {
        "id": "HwVhlOCOr9yn"
      },
      "source": [
        "### 10. 배열 복사\n",
        "10-1. 배열 `arr = [1, 2, 3, 4, 5]`의 뷰를 생성하고 첫 번째 요소를 10으로 변경하세요. 원본 배열을 확인하세요.\n",
        "\n",
        "10-2. 배열 `arr`의 깊은 복사를 생성하고 첫 번째 요소를 20으로 변경하세요. 원본 배열을 확인하세요.\n"
      ]
    },
    {
      "cell_type": "code",
      "execution_count": null,
      "metadata": {
        "colab": {
          "base_uri": "https://localhost:8080/"
        },
        "id": "0F1SaC7ksC3U",
        "outputId": "637717c7-a531-4128-c785-39f57d863fb5"
      },
      "outputs": [
        {
          "name": "stdout",
          "output_type": "stream",
          "text": [
            "Original array after copy modification: [10  2  3  4  5]\n"
          ]
        }
      ],
      "source": []
    },
    {
      "cell_type": "markdown",
      "metadata": {
        "id": "-NC33oiksFnL"
      },
      "source": [
        "### 11. 배열 정렬\n",
        "11-1. 배열 `arr = [5, 2, 9, 1, 5, 6]`을 정렬하세요.\n",
        "\n",
        "11-2.정렬된 배열의 인덱스를 반환하세요.\n"
      ]
    },
    {
      "cell_type": "code",
      "execution_count": null,
      "metadata": {
        "colab": {
          "base_uri": "https://localhost:8080/"
        },
        "id": "5JFb17Y4sIvk",
        "outputId": "47d0db35-91c5-4dac-b5c9-4ad32f90c8ce"
      },
      "outputs": [
        {
          "name": "stdout",
          "output_type": "stream",
          "text": [
            "Indices of sorted elements: [3 1 0 4 5 2]\n"
          ]
        }
      ],
      "source": []
    },
    {
      "cell_type": "markdown",
      "metadata": {
        "id": "J9lySAAosLPI"
      },
      "source": [
        "### 12. 배열의 유니크 값 찾기\n",
        "12-1. 배열 `arr = [1, 2, 2, 3, 4, 4, 4, 5]`에서 유니크 값을 찾으세요."
      ]
    },
    {
      "cell_type": "code",
      "execution_count": null,
      "metadata": {
        "colab": {
          "base_uri": "https://localhost:8080/"
        },
        "id": "1Kqjob91sT_j",
        "outputId": "bd24e9f2-20db-4f81-8f9b-e8de605d239d"
      },
      "outputs": [
        {
          "name": "stdout",
          "output_type": "stream",
          "text": [
            "Unique values: [1 2 3 4 5]\n"
          ]
        }
      ],
      "source": []
    },
    {
      "cell_type": "markdown",
      "metadata": {
        "id": "TH61C6DesLuM"
      },
      "source": [
        "### 13. 행렬 곱셈\n",
        "13-1. 배열 `a = [[1, 2], [3, 4]]`와 `b = [[5, 6], [7, 8]]`의 행렬 곱을 계산하세요.\n"
      ]
    },
    {
      "cell_type": "code",
      "execution_count": null,
      "metadata": {
        "colab": {
          "base_uri": "https://localhost:8080/"
        },
        "id": "TKE_DlXcsMuD",
        "outputId": "15b3b936-668f-422f-c60e-5c5634fbb451"
      },
      "outputs": [
        {
          "name": "stdout",
          "output_type": "stream",
          "text": [
            "[[1 2]\n",
            " [3 4]]\n",
            "[[5 6]\n",
            " [7 8]]\n"
          ]
        }
      ],
      "source": []
    },
    {
      "cell_type": "markdown",
      "metadata": {
        "id": "Xo7DtaZ5sNOG"
      },
      "source": [
        "### 14. 조건부 선택\n",
        "14-1. 배열 `arr = [1, 2, 3, 4, 5, 6, 7, 8, 9, 10]`에서 짝수를 선택하세요."
      ]
    },
    {
      "cell_type": "code",
      "execution_count": null,
      "metadata": {
        "colab": {
          "base_uri": "https://localhost:8080/"
        },
        "id": "h9kDS7eRsOGT",
        "outputId": "5d266d2d-09c5-4a71-fba7-3b55fad29493"
      },
      "outputs": [
        {
          "name": "stdout",
          "output_type": "stream",
          "text": [
            "[ 1  2  3  4  5  6  7  8  9 10]\n"
          ]
        }
      ],
      "source": []
    },
    {
      "cell_type": "markdown",
      "metadata": {
        "id": "EGkmuQmBsOnI"
      },
      "source": [
        "### 15. 브로드캐스팅\n",
        "15-1. 배열 `a = [[1, 2, 3], [4, 5, 6]]`과 배열 `b = [1, 0, 1]`을 더하세요."
      ]
    },
    {
      "cell_type": "code",
      "execution_count": null,
      "metadata": {
        "id": "fDClvM_JsfQ8"
      },
      "outputs": [],
      "source": []
    }
  ],
  "metadata": {
    "colab": {
      "provenance": []
    },
    "kernelspec": {
      "display_name": "Python 3",
      "name": "python3"
    },
    "language_info": {
      "name": "python",
      "version": "3.11.7"
    }
  },
  "nbformat": 4,
  "nbformat_minor": 0
}
