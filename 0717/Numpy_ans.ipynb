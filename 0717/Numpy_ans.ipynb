{
  "nbformat": 4,
  "nbformat_minor": 0,
  "metadata": {
    "colab": {
      "provenance": []
    },
    "kernelspec": {
      "name": "python3",
      "display_name": "Python 3"
    },
    "language_info": {
      "name": "python"
    }
  },
  "cells": [
    {
      "cell_type": "markdown",
      "source": [
        "# Numpy 실습 (7/17)\n",
        "\n",
        "### 1. NumPy 배열 생성 및 기본 연산\n",
        "\n",
        "1-1. 배열 `a = [1, 2, 3]`과 `b = [4, 5, 6`을 생성하고 이 배열을 더하세요.\n",
        "\n",
        "1-2. 배열 `a`와 `b`를 곱하세요.\n",
        "\n",
        "### 2. 배열 생성 함수 사용\n",
        "\n",
        "2-1. 2x3 형태의 0으로 초기화된 배열을 생성하세요.\n",
        "\n",
        "2-2. 2x3 형태의 1로 초기화된 배열을 생성하세요.\n",
        "\n",
        "2-3. 2x3 형태의 랜덤 값으로 채워진 배열을 생성하세요.\n",
        "\n",
        "\n",
        "### 3. 배열 인덱싱 및 슬라이싱\n",
        "3-1. 배열 `arr = [10, 20, 30, 40, 50]`에서 인덱스 1의 요소를 출력하세요.\n",
        "\n",
        "3-2. 배열 `arr`에서 인덱스 1부터 3까지의 요소를 출력하세요.\n",
        "\n",
        "### 4. 배열 모양 변경\n",
        "4-1. 배열 `arr = [[1, 2, 3], [4, 5, 6]]`의 모양을 3x2로 변경하세요.\n",
        "\n",
        "### 5. 배열 결합\n",
        "5-1. 배열 `a = [[1, 2], [3, 4]]`와 `b = [[5, 6]]`을 수직으로 결합하세요.\n",
        "\n",
        "5-2. 배열 `a`와 `b`를 수평으로 결합하세요.\n",
        "\n",
        "### 6. 배열 분할\n",
        "6-1. 배열 `arr = [[1, 2, 3], [4, 5, 6]]`을 수평으로 3등분하세요.\n",
        "\n",
        "6-2. 배열 `arr`을 수직으로 2등분하세요.\n",
        "\n",
        "\n",
        "### 7. 배열의 수학적 연산\n",
        "7-1. 배열 `arr = [1, 2, 3, 4, 5]`의 합계를 구하세요.\n",
        "\n",
        "7-2. 배열 `arr`의 평균을 구하세요.\n",
        "\n",
        "7-3. 배열 `arr`의 표준 편차를 구하세요.\n",
        "\n",
        "### 8. 논리 연산\n",
        "8-1. 배열 `arr = [10, 20, 30, 40, 50]`에서 20보다 큰 요소를 출력하세요.\n",
        "\n",
        "\n",
        "### 9. 난수 생성 및 시드 설정\n",
        "9-1. 3x3 형태의 난수 배열을 생성하세요.\n",
        "\n",
        "9-2. 시드를 42로 설정한 후, 3x3 형태의 난수 배열을 생성하세요.\n",
        "\n",
        "### 10. 배열 복사\n",
        "10-1. 배열 `arr = [1, 2, 3, 4, 5]`의 뷰를 생성하고 첫 번째 요소를 10으로 변경하세요. 원본 배열을 확인하세요.\n",
        "\n",
        "10-2. 배열 `arr`의 깊은 복사를 생성하고 첫 번째 요소를 20으로 변경하세요. 원본 배열을 확인하세요.\n",
        "\n",
        "### 11. 배열 정렬\n",
        "11-1. 배열 `arr = [5, 2, 9, 1, 5, 6]`을 정렬하세요.\n",
        "\n",
        "11-2.정렬된 배열의 인덱스를 반환하세요.\n",
        "\n",
        "\n",
        "### 12. 배열의 유니크 값 찾기\n",
        "12-1. 배열 `arr = [1, 2, 2, 3, 4, 4, 4, 5]`에서 유니크 값을 찾으세요.\n",
        "\n",
        "### 13. 행렬 곱셈\n",
        "13-1. 배열 `a = [[1, 2], [3, 4]]`와 `b = [[5, 6], [7, 8]]`의 행렬 곱을 계산하세요.\n",
        "\n",
        "\n",
        "### 14. 조건부 선택\n",
        "14-1. 배열 `arr = [1, 2, 3, 4, 5, 6, 7, 8, 9, 10]`에서 짝수를 선택하세요.\n",
        "\n",
        "\n",
        "\n",
        "### 15. 브로드캐스팅\n",
        "15-1. 배열 `a = [[1, 2, 3], [4, 5, 6]]`과 배열 `b = [1, 0, 1]`을 더하세요."
      ],
      "metadata": {
        "id": "xO_ddx9tnSiS"
      }
    },
    {
      "cell_type": "code",
      "source": [
        "# 패키지 불러오기\n",
        "import numpy as np"
      ],
      "metadata": {
        "id": "GIPhtKGNplLZ"
      },
      "execution_count": 1,
      "outputs": []
    },
    {
      "cell_type": "markdown",
      "source": [
        "### 1. NumPy 배열 생성 및 기본 연산\n",
        "\n",
        "1-1. 배열 `a = [1, 2, 3]`과 `b = [4, 5, 6`을 생성하고 이 배열을 더하세요.\n",
        "\n",
        "1-2. 배열 `a`와 `b`를 곱하세요."
      ],
      "metadata": {
        "id": "jpfawb30phFl"
      }
    },
    {
      "cell_type": "code",
      "source": [
        "# 배열 생성\n",
        "a = np.array([1, 2, 3])\n",
        "b = np.array([4, 5, 6])\n",
        "print(a)\n",
        "print(b)"
      ],
      "metadata": {
        "colab": {
          "base_uri": "https://localhost:8080/"
        },
        "id": "9T16Ee57pgNe",
        "outputId": "93db01ff-bb58-4045-bb71-86480cd89eb8"
      },
      "execution_count": 23,
      "outputs": [
        {
          "output_type": "stream",
          "name": "stdout",
          "text": [
            "[1 2 3]\n",
            "[4 5 6]\n"
          ]
        }
      ]
    },
    {
      "cell_type": "code",
      "execution_count": 3,
      "metadata": {
        "colab": {
          "base_uri": "https://localhost:8080/"
        },
        "id": "0Xe5pvbZm3dT",
        "outputId": "d25cacc0-5a9d-4fd3-f0e2-5b039f2b6176"
      },
      "outputs": [
        {
          "output_type": "stream",
          "name": "stdout",
          "text": [
            "Array addition: [5 7 9]\n"
          ]
        }
      ],
      "source": [
        "# 배열 덧셈\n",
        "c = a + b\n",
        "print(\"Array addition:\", c)"
      ]
    },
    {
      "cell_type": "code",
      "source": [
        "# 배열 곱셈\n",
        "d = a * b\n",
        "print(\"Array multiplication:\", d)"
      ],
      "metadata": {
        "colab": {
          "base_uri": "https://localhost:8080/"
        },
        "id": "OqF7SEwopqyH",
        "outputId": "2b8fe3db-b3a6-4210-c7f4-bb589bddbdae"
      },
      "execution_count": 4,
      "outputs": [
        {
          "output_type": "stream",
          "name": "stdout",
          "text": [
            "Array multiplication: [ 4 10 18]\n"
          ]
        }
      ]
    },
    {
      "cell_type": "markdown",
      "source": [
        "### 2. 배열 생성 함수 사용\n",
        "\n",
        "2-1. 2x3 형태의 0으로 초기화된 배열을 생성하세요.\n",
        "\n",
        "2-2. 2x3 형태의 1로 초기화된 배열을 생성하세요.\n",
        "\n",
        "2-3. 2x3 형태의 랜덤 값으로 채워진 배열을 생성하세요."
      ],
      "metadata": {
        "id": "GKGuhtykpuYo"
      }
    },
    {
      "cell_type": "code",
      "source": [
        "# 0으로 초기화된 배열 생성\n",
        "zeros = np.zeros((2, 3))\n",
        "print(\"Zeros array:\\n\", zeros)"
      ],
      "metadata": {
        "colab": {
          "base_uri": "https://localhost:8080/"
        },
        "id": "_fOdAPigpsGe",
        "outputId": "ad1d25bf-53f1-4a0b-e6b8-9349531c4e4f"
      },
      "execution_count": 5,
      "outputs": [
        {
          "output_type": "stream",
          "name": "stdout",
          "text": [
            "Zeros array:\n",
            " [[0. 0. 0.]\n",
            " [0. 0. 0.]]\n"
          ]
        }
      ]
    },
    {
      "cell_type": "code",
      "source": [
        "# 1로 초기화된 배열 생성\n",
        "ones = np.ones((2, 3))\n",
        "print(\"Ones array:\\n\", ones)"
      ],
      "metadata": {
        "colab": {
          "base_uri": "https://localhost:8080/"
        },
        "id": "DRk4Z94MpweB",
        "outputId": "79b7caf8-fc9f-4a61-8095-1c6c1879ac9b"
      },
      "execution_count": 6,
      "outputs": [
        {
          "output_type": "stream",
          "name": "stdout",
          "text": [
            "Ones array:\n",
            " [[1. 1. 1.]\n",
            " [1. 1. 1.]]\n"
          ]
        }
      ]
    },
    {
      "cell_type": "code",
      "source": [
        "# 랜덤 값으로 채워진 배열 생성\n",
        "randoms = np.random.rand(2, 3)\n",
        "print(\"Random array:\\n\", randoms)"
      ],
      "metadata": {
        "colab": {
          "base_uri": "https://localhost:8080/"
        },
        "id": "NKUfD4f-pxij",
        "outputId": "a28be0c8-4e87-486f-dbdc-ba711c0347e4"
      },
      "execution_count": 7,
      "outputs": [
        {
          "output_type": "stream",
          "name": "stdout",
          "text": [
            "Random array:\n",
            " [[0.21566901 0.93755405 0.76658239]\n",
            " [0.72171416 0.33718924 0.97697133]]\n"
          ]
        }
      ]
    },
    {
      "cell_type": "markdown",
      "source": [
        "### 3. 배열 인덱싱 및 슬라이싱\n",
        "3-1. 배열 `arr = [10, 20, 30, 40, 50]`에서 인덱스 1의 요소를 출력하세요.\n",
        "\n",
        "3-2. 배열 `arr`에서 인덱스 1부터 3까지의 요소를 출력하세요."
      ],
      "metadata": {
        "id": "QMCTM2X4p-pZ"
      }
    },
    {
      "cell_type": "code",
      "source": [
        "# arr 배열 생성\n",
        "arr = np.array([10, 20, 30, 40, 50])\n",
        "print(arr)"
      ],
      "metadata": {
        "colab": {
          "base_uri": "https://localhost:8080/"
        },
        "id": "cs4emF2IpyWn",
        "outputId": "316f7122-31d0-4307-b6d8-677e245a9149"
      },
      "execution_count": 24,
      "outputs": [
        {
          "output_type": "stream",
          "name": "stdout",
          "text": [
            "[10 20 30 40 50]\n"
          ]
        }
      ]
    },
    {
      "cell_type": "code",
      "source": [
        "# 인덱싱\n",
        "print(\"Element at index 1:\", arr[1])"
      ],
      "metadata": {
        "colab": {
          "base_uri": "https://localhost:8080/"
        },
        "id": "-lTEai-GqAWv",
        "outputId": "fa5bdb12-3014-4930-faf6-e79857bdf885"
      },
      "execution_count": 10,
      "outputs": [
        {
          "output_type": "stream",
          "name": "stdout",
          "text": [
            "Element at index 1: 20\n"
          ]
        }
      ]
    },
    {
      "cell_type": "code",
      "source": [
        "# 슬라이싱\n",
        "print(\"Elements from index 1 to 3:\", arr[1:4])"
      ],
      "metadata": {
        "colab": {
          "base_uri": "https://localhost:8080/"
        },
        "id": "sjPwLj5JqFXA",
        "outputId": "e8109c30-7900-47df-ba9e-79996bd6f850"
      },
      "execution_count": 11,
      "outputs": [
        {
          "output_type": "stream",
          "name": "stdout",
          "text": [
            "Elements from index 1 to 3: [20 30 40]\n"
          ]
        }
      ]
    },
    {
      "cell_type": "markdown",
      "source": [
        "\n",
        "### 4. 배열 모양 변경\n",
        "4-1. 배열 `arr = [[1, 2, 3], [4, 5, 6]]`의 모양을 3x2로 변경하세요."
      ],
      "metadata": {
        "id": "4CVIuYcfqHfu"
      }
    },
    {
      "cell_type": "code",
      "source": [
        "arr = np.array([[1, 2, 3], [4, 5, 6]])\n",
        "print(arr)"
      ],
      "metadata": {
        "colab": {
          "base_uri": "https://localhost:8080/"
        },
        "id": "exaMh9t4qgTA",
        "outputId": "48b84125-536e-4271-d429-c50b7dcd9497"
      },
      "execution_count": 26,
      "outputs": [
        {
          "output_type": "stream",
          "name": "stdout",
          "text": [
            "[[1 2 3]\n",
            " [4 5 6]]\n"
          ]
        }
      ]
    },
    {
      "cell_type": "code",
      "source": [
        "# 배열 모양 변경\n",
        "reshaped = arr.reshape((3, 2))\n",
        "print(\"Reshaped array:\\n\", reshaped)"
      ],
      "metadata": {
        "colab": {
          "base_uri": "https://localhost:8080/"
        },
        "id": "dW_jWe9OqGWS",
        "outputId": "d16c10a0-2c8a-4880-dc6f-290779a4bdab"
      },
      "execution_count": 12,
      "outputs": [
        {
          "output_type": "stream",
          "name": "stdout",
          "text": [
            "Reshaped array:\n",
            " [[1 2]\n",
            " [3 4]\n",
            " [5 6]]\n"
          ]
        }
      ]
    },
    {
      "cell_type": "markdown",
      "source": [
        "### 5. 배열 결합\n",
        "5-1. 배열 `a = [[1, 2], [3, 4]]`와 `b = [[5, 6]]`을 수직으로 결합하세요.\n",
        "\n",
        "5-2. 배열 `a`와 `b`를 수평으로 결합하세요."
      ],
      "metadata": {
        "id": "FNfcWiEvqLFc"
      }
    },
    {
      "cell_type": "code",
      "source": [
        "a = np.array([[1, 2], [3, 4]])\n",
        "b = np.array([[5, 6]])\n",
        "print(a)\n",
        "print(b)"
      ],
      "metadata": {
        "colab": {
          "base_uri": "https://localhost:8080/"
        },
        "id": "7_WUw2hzqJYX",
        "outputId": "4efda936-70f9-41ff-dd9c-3e70dbf15eba"
      },
      "execution_count": 18,
      "outputs": [
        {
          "output_type": "execute_result",
          "data": {
            "text/plain": [
              "(array([[1, 2],\n",
              "        [3, 4]]),\n",
              " array([[5, 6]]))"
            ]
          },
          "metadata": {},
          "execution_count": 18
        }
      ]
    },
    {
      "cell_type": "code",
      "source": [
        "# 배열 수직 결합\n",
        "vertical = np.vstack((a, b))\n",
        "print(\"Vertical stack:\\n\", vertical)"
      ],
      "metadata": {
        "colab": {
          "base_uri": "https://localhost:8080/"
        },
        "id": "vpNkeeSQqNBf",
        "outputId": "bb914818-b373-42c1-e6f4-1bd74e443b7f"
      },
      "execution_count": 14,
      "outputs": [
        {
          "output_type": "stream",
          "name": "stdout",
          "text": [
            "Vertical stack:\n",
            " [[1 2]\n",
            " [3 4]\n",
            " [5 6]]\n"
          ]
        }
      ]
    },
    {
      "cell_type": "code",
      "source": [
        "# 배열 수평 결합\n",
        "horizontal = np.hstack((a, b.T))\n",
        "print(\"Horizontal stack:\\n\", horizontal)"
      ],
      "metadata": {
        "colab": {
          "base_uri": "https://localhost:8080/"
        },
        "id": "YYWKZg8RqN8g",
        "outputId": "2e923888-9496-401a-860a-6d07df3ced4e"
      },
      "execution_count": 15,
      "outputs": [
        {
          "output_type": "stream",
          "name": "stdout",
          "text": [
            "Horizontal stack:\n",
            " [[1 2 5]\n",
            " [3 4 6]]\n"
          ]
        }
      ]
    },
    {
      "cell_type": "markdown",
      "source": [
        "### 6. 배열 분할\n",
        "6-1. 배열 `arr = [[1, 2, 3], [4, 5, 6]]`을 수평으로 3등분하세요.\n",
        "\n",
        "6-2. 배열 `arr`을 수직으로 2등분하세요."
      ],
      "metadata": {
        "id": "Mg82PNeMqP5F"
      }
    },
    {
      "cell_type": "code",
      "source": [
        "arr = np.array([[1, 2, 3], [4, 5, 6]])\n",
        "print(arr)"
      ],
      "metadata": {
        "colab": {
          "base_uri": "https://localhost:8080/"
        },
        "id": "BwGUPaJ1qOr-",
        "outputId": "611fcaac-2346-4bd6-fdfb-dc5f83e4e71e"
      },
      "execution_count": 21,
      "outputs": [
        {
          "output_type": "stream",
          "name": "stdout",
          "text": [
            "[[1 2 3]\n",
            " [4 5 6]]\n"
          ]
        }
      ]
    },
    {
      "cell_type": "code",
      "source": [
        "# 수평 분할\n",
        "split = np.hsplit(arr, 3)\n",
        "print(\"Horizontal split:\", split)"
      ],
      "metadata": {
        "colab": {
          "base_uri": "https://localhost:8080/"
        },
        "id": "_QUSwyXVqRXk",
        "outputId": "6f51340a-9e1a-4b1c-e069-f66442b39d14"
      },
      "execution_count": 27,
      "outputs": [
        {
          "output_type": "stream",
          "name": "stdout",
          "text": [
            "Horizontal split: [array([[1],\n",
            "       [4]]), array([[2],\n",
            "       [5]]), array([[3],\n",
            "       [6]])]\n"
          ]
        }
      ]
    },
    {
      "cell_type": "code",
      "source": [
        "# 수직 분할\n",
        "split = np.vsplit(arr, 2)\n",
        "print(\"Vertical split:\", split)"
      ],
      "metadata": {
        "colab": {
          "base_uri": "https://localhost:8080/"
        },
        "id": "-2SwcyHEqmcg",
        "outputId": "2d2f1e45-3ef2-4f4d-a438-d7d0ac95692e"
      },
      "execution_count": 28,
      "outputs": [
        {
          "output_type": "stream",
          "name": "stdout",
          "text": [
            "Vertical split: [array([[1, 2, 3]]), array([[4, 5, 6]])]\n"
          ]
        }
      ]
    },
    {
      "cell_type": "markdown",
      "source": [
        "### 7. 배열의 수학적 연산\n",
        "7-1. 배열 `arr = [1, 2, 3, 4, 5]`의 합계를 구하세요.\n",
        "\n",
        "7-2. 배열 `arr`의 평균을 구하세요.\n",
        "\n",
        "7-3. 배열 `arr`의 표준 편차를 구하세요."
      ],
      "metadata": {
        "id": "kQ8RsbjFqouN"
      }
    },
    {
      "cell_type": "code",
      "source": [
        "arr = np.array([1, 2, 3, 4, 5])\n",
        "print(arr)"
      ],
      "metadata": {
        "colab": {
          "base_uri": "https://localhost:8080/"
        },
        "id": "ExCIY1buqnTs",
        "outputId": "af46b571-a078-4cca-d668-3123b5bd3371"
      },
      "execution_count": 29,
      "outputs": [
        {
          "output_type": "stream",
          "name": "stdout",
          "text": [
            "[1 2 3 4 5]\n"
          ]
        }
      ]
    },
    {
      "cell_type": "code",
      "source": [
        "# 배열 합계\n",
        "print(\"Sum:\", np.sum(arr))"
      ],
      "metadata": {
        "colab": {
          "base_uri": "https://localhost:8080/"
        },
        "id": "Mcejvo0IqqR7",
        "outputId": "17dd7213-0f44-4057-9bba-50b0dcbaf19e"
      },
      "execution_count": 30,
      "outputs": [
        {
          "output_type": "stream",
          "name": "stdout",
          "text": [
            "Sum: 15\n"
          ]
        }
      ]
    },
    {
      "cell_type": "code",
      "source": [
        "# 배열 평균\n",
        "print(\"Mean:\", np.mean(arr))"
      ],
      "metadata": {
        "colab": {
          "base_uri": "https://localhost:8080/"
        },
        "id": "UkYMyC40qrgU",
        "outputId": "ad209d2a-463a-4eca-ac93-3d41cf64c9a6"
      },
      "execution_count": 32,
      "outputs": [
        {
          "output_type": "stream",
          "name": "stdout",
          "text": [
            "Mean: 3.0\n"
          ]
        }
      ]
    },
    {
      "cell_type": "code",
      "source": [
        "# 배열 표준 편차\n",
        "print(\"Standard Deviation:\", np.std(arr))"
      ],
      "metadata": {
        "colab": {
          "base_uri": "https://localhost:8080/"
        },
        "id": "uYEsXFJBqsWz",
        "outputId": "f4ac84be-eb37-4fc6-e60a-dc337e6c200d"
      },
      "execution_count": 33,
      "outputs": [
        {
          "output_type": "stream",
          "name": "stdout",
          "text": [
            "Standard Deviation: 1.4142135623730951\n"
          ]
        }
      ]
    },
    {
      "cell_type": "markdown",
      "source": [
        "### 8. 논리 연산\n",
        "8-1. 배열 `arr = [10, 20, 30, 40, 50]`에서 20보다 큰 요소를 출력하세요."
      ],
      "metadata": {
        "id": "FJqdJw7tqvmf"
      }
    },
    {
      "cell_type": "code",
      "source": [
        "arr = np.array([10, 20, 30, 40, 50])\n",
        "print(arr)"
      ],
      "metadata": {
        "colab": {
          "base_uri": "https://localhost:8080/"
        },
        "id": "z-tXedg8quMm",
        "outputId": "1bebfe88-749d-4ab0-e6d5-4cefe14a01a3"
      },
      "execution_count": 34,
      "outputs": [
        {
          "output_type": "stream",
          "name": "stdout",
          "text": [
            "[10 20 30 40 50]\n"
          ]
        }
      ]
    },
    {
      "cell_type": "code",
      "source": [
        "# 논리 조건\n",
        "print(\"Elements greater than 20:\", arr[arr > 20])"
      ],
      "metadata": {
        "colab": {
          "base_uri": "https://localhost:8080/"
        },
        "id": "Wi6cc-vXqxg8",
        "outputId": "d8111e91-7b10-48c5-d608-e4e19f45e598"
      },
      "execution_count": 35,
      "outputs": [
        {
          "output_type": "stream",
          "name": "stdout",
          "text": [
            "Elements greater than 20: [30 40 50]\n"
          ]
        }
      ]
    },
    {
      "cell_type": "markdown",
      "source": [
        "### 9. 난수 생성 및 시드 설정\n",
        "9-1. 3x3 형태의 난수 배열을 생성하세요.\n",
        "\n",
        "9-2. 시드를 42로 설정한 후, 3x3 형태의 난수 배열을 생성하세요."
      ],
      "metadata": {
        "id": "hlkMRfcwq0Op"
      }
    },
    {
      "cell_type": "code",
      "source": [
        "# 난수 생성\n",
        "randoms = np.random.rand(3, 3)\n",
        "print(\"Random array:\\n\", randoms)"
      ],
      "metadata": {
        "colab": {
          "base_uri": "https://localhost:8080/"
        },
        "id": "Ta4Wie_Zqyhn",
        "outputId": "11bdff7c-e5eb-498b-f215-e30f3ef76cb2"
      },
      "execution_count": 36,
      "outputs": [
        {
          "output_type": "stream",
          "name": "stdout",
          "text": [
            "Random array:\n",
            " [[0.73321437 0.24657375 0.84754921]\n",
            " [0.11436358 0.16429013 0.86410958]\n",
            " [0.0232986  0.40280466 0.13367729]]\n"
          ]
        }
      ]
    },
    {
      "cell_type": "code",
      "source": [
        "# 시드 설정\n",
        "np.random.seed(42)\n",
        "randoms_seeded = np.random.rand(3, 3)\n",
        "print(\"Seeded random array:\\n\", randoms_seeded)"
      ],
      "metadata": {
        "colab": {
          "base_uri": "https://localhost:8080/"
        },
        "id": "IqES89_Qq1Xv",
        "outputId": "e42ed3ae-219b-445a-c839-39be35206076"
      },
      "execution_count": 37,
      "outputs": [
        {
          "output_type": "stream",
          "name": "stdout",
          "text": [
            "Seeded random array:\n",
            " [[0.37454012 0.95071431 0.73199394]\n",
            " [0.59865848 0.15601864 0.15599452]\n",
            " [0.05808361 0.86617615 0.60111501]]\n"
          ]
        }
      ]
    },
    {
      "cell_type": "markdown",
      "source": [
        "### 10. 배열 복사\n",
        "10-1. 배열 `arr = [1, 2, 3, 4, 5]`의 뷰를 생성하고 첫 번째 요소를 10으로 변경하세요. 원본 배열을 확인하세요.\n",
        "\n",
        "10-2. 배열 `arr`의 깊은 복사를 생성하고 첫 번째 요소를 20으로 변경하세요. 원본 배열을 확인하세요.\n"
      ],
      "metadata": {
        "id": "HwVhlOCOr9yn"
      }
    },
    {
      "cell_type": "code",
      "source": [
        "arr = np.array([1, 2, 3, 4, 5])\n",
        "print(arr)"
      ],
      "metadata": {
        "colab": {
          "base_uri": "https://localhost:8080/"
        },
        "id": "oI8jVA9uq2pU",
        "outputId": "759de2c4-9c0e-4c35-bab5-96125ada6f26"
      },
      "execution_count": 38,
      "outputs": [
        {
          "output_type": "stream",
          "name": "stdout",
          "text": [
            "[1 2 3 4 5]\n"
          ]
        }
      ]
    },
    {
      "cell_type": "code",
      "source": [
        "# 얕은 복사 (뷰)\n",
        "view = arr.view()\n",
        "view[0] = 10\n",
        "print(\"Original array after view modification:\", arr)"
      ],
      "metadata": {
        "colab": {
          "base_uri": "https://localhost:8080/"
        },
        "id": "skv2StftsBI9",
        "outputId": "8c6339cb-ac04-4b3a-a03b-af7c0a6398fb"
      },
      "execution_count": 39,
      "outputs": [
        {
          "output_type": "stream",
          "name": "stdout",
          "text": [
            "Original array after view modification: [10  2  3  4  5]\n"
          ]
        }
      ]
    },
    {
      "cell_type": "code",
      "source": [
        "# 깊은 복사\n",
        "copy = arr.copy()\n",
        "copy[0] = 20\n",
        "print(\"Original array after copy modification:\", arr)"
      ],
      "metadata": {
        "colab": {
          "base_uri": "https://localhost:8080/"
        },
        "id": "0F1SaC7ksC3U",
        "outputId": "637717c7-a531-4128-c785-39f57d863fb5"
      },
      "execution_count": 40,
      "outputs": [
        {
          "output_type": "stream",
          "name": "stdout",
          "text": [
            "Original array after copy modification: [10  2  3  4  5]\n"
          ]
        }
      ]
    },
    {
      "cell_type": "markdown",
      "source": [
        "### 11. 배열 정렬\n",
        "11-1. 배열 `arr = [5, 2, 9, 1, 5, 6]`을 정렬하세요.\n",
        "\n",
        "11-2.정렬된 배열의 인덱스를 반환하세요.\n"
      ],
      "metadata": {
        "id": "-NC33oiksFnL"
      }
    },
    {
      "cell_type": "code",
      "source": [
        "arr = np.array([5, 2, 9, 1, 5, 6])\n",
        "print(arr)"
      ],
      "metadata": {
        "colab": {
          "base_uri": "https://localhost:8080/"
        },
        "id": "gkVQcFwusEFB",
        "outputId": "7ebd9538-0851-4a36-d827-db49732760e8"
      },
      "execution_count": 41,
      "outputs": [
        {
          "output_type": "stream",
          "name": "stdout",
          "text": [
            "[5 2 9 1 5 6]\n"
          ]
        }
      ]
    },
    {
      "cell_type": "code",
      "source": [
        "# 정렬된 배열\n",
        "sorted_arr = np.sort(arr)\n",
        "print(\"Sorted array:\", sorted_arr)"
      ],
      "metadata": {
        "colab": {
          "base_uri": "https://localhost:8080/"
        },
        "id": "_Z0khSAPsHK-",
        "outputId": "8a254096-1385-4fa4-e282-dddd93f12ca2"
      },
      "execution_count": 42,
      "outputs": [
        {
          "output_type": "stream",
          "name": "stdout",
          "text": [
            "Sorted array: [1 2 5 5 6 9]\n"
          ]
        }
      ]
    },
    {
      "cell_type": "code",
      "source": [
        "# 인덱스 기반 정렬\n",
        "sorted_indices = np.argsort(arr)\n",
        "print(\"Indices of sorted elements:\", sorted_indices)"
      ],
      "metadata": {
        "colab": {
          "base_uri": "https://localhost:8080/"
        },
        "id": "5JFb17Y4sIvk",
        "outputId": "47d0db35-91c5-4dac-b5c9-4ad32f90c8ce"
      },
      "execution_count": 43,
      "outputs": [
        {
          "output_type": "stream",
          "name": "stdout",
          "text": [
            "Indices of sorted elements: [3 1 0 4 5 2]\n"
          ]
        }
      ]
    },
    {
      "cell_type": "markdown",
      "source": [
        "### 12. 배열의 유니크 값 찾기\n",
        "12-1. 배열 `arr = [1, 2, 2, 3, 4, 4, 4, 5]`에서 유니크 값을 찾으세요."
      ],
      "metadata": {
        "id": "J9lySAAosLPI"
      }
    },
    {
      "cell_type": "code",
      "source": [
        "arr = np.array([1, 2, 2, 3, 4, 4, 4, 5])\n",
        "print(arr)"
      ],
      "metadata": {
        "colab": {
          "base_uri": "https://localhost:8080/"
        },
        "id": "1QKpPPWBsJmW",
        "outputId": "110337fc-42fd-473b-d7c0-23971a7417c8"
      },
      "execution_count": 44,
      "outputs": [
        {
          "output_type": "stream",
          "name": "stdout",
          "text": [
            "[1 2 2 3 4 4 4 5]\n"
          ]
        }
      ]
    },
    {
      "cell_type": "code",
      "source": [
        "# 유니크 값\n",
        "unique_values = np.unique(arr)\n",
        "print(\"Unique values:\", unique_values)"
      ],
      "metadata": {
        "colab": {
          "base_uri": "https://localhost:8080/"
        },
        "id": "1Kqjob91sT_j",
        "outputId": "bd24e9f2-20db-4f81-8f9b-e8de605d239d"
      },
      "execution_count": 45,
      "outputs": [
        {
          "output_type": "stream",
          "name": "stdout",
          "text": [
            "Unique values: [1 2 3 4 5]\n"
          ]
        }
      ]
    },
    {
      "cell_type": "markdown",
      "source": [
        "### 13. 행렬 곱셈\n",
        "13-1. 배열 `a = [[1, 2], [3, 4]]`와 `b = [[5, 6], [7, 8]]`의 행렬 곱을 계산하세요.\n"
      ],
      "metadata": {
        "id": "TH61C6DesLuM"
      }
    },
    {
      "cell_type": "code",
      "source": [
        "a = np.array([[1, 2], [3, 4]])\n",
        "b = np.array([[5, 6], [7, 8]])\n",
        "print(a)\n",
        "print(b)"
      ],
      "metadata": {
        "colab": {
          "base_uri": "https://localhost:8080/"
        },
        "id": "TKE_DlXcsMuD",
        "outputId": "15b3b936-668f-422f-c60e-5c5634fbb451"
      },
      "execution_count": 46,
      "outputs": [
        {
          "output_type": "stream",
          "name": "stdout",
          "text": [
            "[[1 2]\n",
            " [3 4]]\n",
            "[[5 6]\n",
            " [7 8]]\n"
          ]
        }
      ]
    },
    {
      "cell_type": "code",
      "source": [
        "# 행렬 곱셈\n",
        "matrix_product = np.dot(a, b)\n",
        "print(\"Matrix product:\\n\", matrix_product)"
      ],
      "metadata": {
        "colab": {
          "base_uri": "https://localhost:8080/"
        },
        "id": "1xQcj6L2sYJW",
        "outputId": "1fc398d6-80c2-4124-d503-4d5c344b5bd1"
      },
      "execution_count": 47,
      "outputs": [
        {
          "output_type": "stream",
          "name": "stdout",
          "text": [
            "Matrix product:\n",
            " [[19 22]\n",
            " [43 50]]\n"
          ]
        }
      ]
    },
    {
      "cell_type": "markdown",
      "source": [
        "### 14. 조건부 선택\n",
        "14-1. 배열 `arr = [1, 2, 3, 4, 5, 6, 7, 8, 9, 10]`에서 짝수를 선택하세요."
      ],
      "metadata": {
        "id": "Xo7DtaZ5sNOG"
      }
    },
    {
      "cell_type": "code",
      "source": [
        "arr = np.array([1, 2, 3, 4, 5, 6, 7, 8, 9, 10])\n",
        "print(arr)"
      ],
      "metadata": {
        "colab": {
          "base_uri": "https://localhost:8080/"
        },
        "id": "h9kDS7eRsOGT",
        "outputId": "5d266d2d-09c5-4a71-fba7-3b55fad29493"
      },
      "execution_count": 48,
      "outputs": [
        {
          "output_type": "stream",
          "name": "stdout",
          "text": [
            "[ 1  2  3  4  5  6  7  8  9 10]\n"
          ]
        }
      ]
    },
    {
      "cell_type": "code",
      "source": [
        "# 조건부 선택\n",
        "condition = arr % 2 == 0\n",
        "even_numbers = arr[condition]\n",
        "print(\"Even numbers:\", even_numbers)"
      ],
      "metadata": {
        "colab": {
          "base_uri": "https://localhost:8080/"
        },
        "id": "b6Qoag6Hsaxw",
        "outputId": "70cf2a14-434e-49ce-f3b0-c17ae65ea20d"
      },
      "execution_count": 49,
      "outputs": [
        {
          "output_type": "stream",
          "name": "stdout",
          "text": [
            "Even numbers: [ 2  4  6  8 10]\n"
          ]
        }
      ]
    },
    {
      "cell_type": "markdown",
      "source": [
        "### 15. 브로드캐스팅\n",
        "15-1. 배열 `a = [[1, 2, 3], [4, 5, 6]]`과 배열 `b = [1, 0, 1]`을 더하세요."
      ],
      "metadata": {
        "id": "EGkmuQmBsOnI"
      }
    },
    {
      "cell_type": "code",
      "source": [
        "a = np.array([[1, 2, 3], [4, 5, 6]])\n",
        "b = np.array([1, 0, 1])\n",
        "print(a)\n",
        "print(b)"
      ],
      "metadata": {
        "colab": {
          "base_uri": "https://localhost:8080/"
        },
        "id": "TUp37ga9sRLi",
        "outputId": "e391744e-a9b3-4ed5-d5b2-69bc960835e4"
      },
      "execution_count": 50,
      "outputs": [
        {
          "output_type": "stream",
          "name": "stdout",
          "text": [
            "[[1 2 3]\n",
            " [4 5 6]]\n",
            "[1 0 1]\n"
          ]
        }
      ]
    },
    {
      "cell_type": "code",
      "source": [
        "# 브로드캐스팅 연산\n",
        "result = a + b\n",
        "print(\"Broadcasting result:\\n\", result)"
      ],
      "metadata": {
        "colab": {
          "base_uri": "https://localhost:8080/"
        },
        "id": "6jYz3ukZseU2",
        "outputId": "998288a4-d225-4bf5-cb4f-95be66f60ea4"
      },
      "execution_count": 51,
      "outputs": [
        {
          "output_type": "stream",
          "name": "stdout",
          "text": [
            "Broadcasting result:\n",
            " [[2 2 4]\n",
            " [5 5 7]]\n"
          ]
        }
      ]
    },
    {
      "cell_type": "code",
      "source": [],
      "metadata": {
        "id": "fDClvM_JsfQ8"
      },
      "execution_count": null,
      "outputs": []
    }
  ]
}