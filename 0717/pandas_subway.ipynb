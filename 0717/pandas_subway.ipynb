{
  "cells": [
    {
      "cell_type": "markdown",
      "metadata": {
        "id": "dn80l9t5evM6"
      },
      "source": [
        "# pandas 실습 과제 (7/17)\n",
        "\n",
        "## 2024년 6월 서울시 지하철호선별 역별 승하차 인원 정보\n",
        "\n",
        "- 데이터: https://data.seoul.go.kr/dataList/OA-12914/S/1/datasetView.do\n",
        "- 2024년 6월 데이터\n",
        "\n",
        "1. 2024년 6월 서울시 지하철 노선별 역별 승하차 인원 정보 파일을 읽어와서 데이터프레임으로 저장하세요.\n",
        "\n",
        "2. 데이터프레임(df)의 처음과 마지막 5개의 로우를 각각 출력하세요.\n",
        "\n",
        "3. 데이터프레임(df)이 몇 개의 로우와 행으로 이루어져 있는지 구조(shape)를 확인하세요.\n",
        "\n",
        "4. 데이터프레임(df)의 평균, 표준편차, 사분위수 등 주요 통계 지표를 확인하세요.\n",
        "\n",
        "5. 데이터프레임(df)에 몇 개의 컬럼이 있는지, 각 컬럼에 포함된 데이터들의 타입은 무엇인지 확인해보세요.\n",
        "\n",
        "6. ‘노선명’ 컬럼이 가지고 있는 데이터의 종류를 확인하세요.\n",
        "\n",
        "7. ‘노선명’ 컬럼의 각 데이터가 몇 개씩 포함되어 있는지 확인하세요.\n",
        "\n",
        "8. ‘승차총승객수’ 컬럼을 기준으로 데이터를 정렬하세요.\n",
        "\n",
        "9. ‘노선명’ 컬럼을 선택하세요.\n",
        "\n",
        "10. 데이터프레임의 위에서부터 10개(0번째부터 9번째)의 데이터(로우)를 선택하세요.\n",
        "\n",
        "11. 데이터프레임에서 ‘노선명’이 ‘2호선’인 로우만 선택하세요.\n",
        "\n",
        "12. 데이터프레임에서 ‘승차총승객수’가 50,000명 이상인 로우의 ‘역명’을 선택하세요.\n",
        "\n",
        "13. '승차총승객수'의 최대값과 최대값 로우의 인덱스가 무엇인지 확인하세요.\n",
        "\n",
        "14. 데이터프레임에서 0번 로우를 삭제하세요.\n",
        "\n",
        "15. 데이터프레임에서 ‘등록일자’ 컬럼을 삭제하세요.\n",
        "\n",
        "16. ‘승차총승객수’ 컬럼의 모든 값을 2씩 증가시키세요.\n",
        "\n",
        "17. ‘승차총승객수’와 ‘하차총승객수’ 컬럼의 차이를 계산한 ‘승하차총승객수차이’ 컬럼을 생성하세요.\n",
        "\n",
        "18. ‘승하차총승객수차이’의 평균값을 계산하세요.\n",
        "\n",
        "19. 데이터프레임에서 10개의 행을 샘플링하세요.\n",
        "\n",
        "20. 샘플링된 데이터프레임(sample_df)의 값에서 ‘노선명’ 컬럼의 값이 1호선, 2호선, 3호선, 4호선인  값을 영어(line1, line2, line3, line4)로 변경하세요.\n",
        "\n",
        "21. 데이터프레임(df)의 ‘사용일자’ 컬럼을 연도-월-일(예: 2021-02-01)의 형태로 표시되도록 수정하세요.*\n",
        "\n",
        "22. 데이터프레임(df)의 ‘사용일자1’ 컬럼을 새로 생성하고, ‘사용일자’ 컬럼에 있는 값을 datetime64의 타입으로 변환하여 저장하세요.\n",
        "\n",
        "23. ‘노선명’을 기준으로 데이터를 그룹화하고, 각 그룹의 ‘승차총승객수’와 ‘하차총승객수’의 합을 구하세요.\n",
        "\n",
        "24. ‘승차총승객수’ 컬럼의 값이 100,000 이상인 경우 ‘high’, 그렇지 않은 경우 ‘low’로 표시하는 새로운 컬럼 ‘승차레벨’을 추가하세요.\n",
        "\n",
        "25. ‘노선명’ 컬럼의 값에 대해 map 함수를 사용하여 영어로 변환된 값을 가진 새로운 컬럼 ‘노선명_영어’를 추가하세요.\n",
        "\n",
        "27. ‘승차총승객수’를 구간별로 나누어 ‘승차구간’이라는 새로운 컬럼을 추가하세요."
      ]
    },
    {
      "cell_type": "code",
      "execution_count": null,
      "metadata": {},
      "outputs": [],
      "source": [
        "from google.colab import drive\n",
        "drive.mount('/content/drive')"
      ]
    },
    {
      "cell_type": "code",
      "execution_count": 38,
      "metadata": {
        "id": "ejvdvSVDQvja"
      },
      "outputs": [],
      "source": [
        "import pandas as pd\n",
        "import seaborn as sns"
      ]
    },
    {
      "cell_type": "markdown",
      "metadata": {},
      "source": [
        "#### 1. 2024년 6월 서울시 지하철노선별 역별 승하차 인원 정보 파일을 읽어와서 데이터프레임으로 저장하세요.\n",
        "- dataload"
      ]
    },
    {
      "cell_type": "code",
      "execution_count": null,
      "metadata": {},
      "outputs": [],
      "source": []
    },
    {
      "cell_type": "markdown",
      "metadata": {},
      "source": [
        "#### 2. 데이터프레임(df)의 처음과 마지막 5개의 로우를 각각 출력하세요.\n",
        "- `head` and `tail`"
      ]
    },
    {
      "cell_type": "code",
      "execution_count": null,
      "metadata": {},
      "outputs": [],
      "source": []
    },
    {
      "cell_type": "markdown",
      "metadata": {},
      "source": [
        "#### 3. 데이터프레임(df)이 몇 개의 로우와 행으로 이루어져 있는지 구조(shape)를 확인하세요.\n",
        "- `shape`"
      ]
    },
    {
      "cell_type": "code",
      "execution_count": null,
      "metadata": {},
      "outputs": [],
      "source": []
    },
    {
      "cell_type": "markdown",
      "metadata": {},
      "source": [
        "#### 4. 데이터프레임(df)의 평균, 표준편차, 사분위수 등 주요 통계 지표를 확인하세요.\n",
        "- `describe`"
      ]
    },
    {
      "cell_type": "code",
      "execution_count": null,
      "metadata": {},
      "outputs": [],
      "source": []
    },
    {
      "cell_type": "markdown",
      "metadata": {},
      "source": [
        "#### 5. 데이터프레임(df)에 몇 개의 컬럼이 있는지, 각 컬럼에 포함된 데이터들의 타입은 무엇인지 확인해보세요.\n",
        "- `info`"
      ]
    },
    {
      "cell_type": "code",
      "execution_count": null,
      "metadata": {},
      "outputs": [],
      "source": []
    },
    {
      "cell_type": "markdown",
      "metadata": {},
      "source": [
        "#### 6. ‘노선명’ 컬럼이 가지고 있는 데이터의 종류를 확인하세요.\n",
        "- `unique`"
      ]
    },
    {
      "cell_type": "code",
      "execution_count": null,
      "metadata": {},
      "outputs": [],
      "source": []
    },
    {
      "cell_type": "markdown",
      "metadata": {},
      "source": [
        "#### 7. ‘노선명’ 컬럼의 각 데이터가 몇 개씩 포함되어 있는지 확인하세요.\n",
        "- `value_counts`"
      ]
    },
    {
      "cell_type": "code",
      "execution_count": null,
      "metadata": {},
      "outputs": [],
      "source": []
    },
    {
      "cell_type": "markdown",
      "metadata": {},
      "source": [
        "#### 8. ‘승차총승객수’ 컬럼을 기준으로 데이터를 정렬하세요.\n",
        "- `sort_values`"
      ]
    },
    {
      "cell_type": "code",
      "execution_count": null,
      "metadata": {},
      "outputs": [],
      "source": []
    },
    {
      "cell_type": "markdown",
      "metadata": {},
      "source": [
        "#### 9. ‘노선명’ 컬럼을 선택하세요.\n"
      ]
    },
    {
      "cell_type": "code",
      "execution_count": null,
      "metadata": {},
      "outputs": [],
      "source": []
    },
    {
      "cell_type": "markdown",
      "metadata": {},
      "source": [
        "#### 10. 데이터프레임의 위에서부터 10개(0번째부터 9번째)의 데이터(로우)를 선택하세요.\n",
        "- `iloc`"
      ]
    },
    {
      "cell_type": "code",
      "execution_count": null,
      "metadata": {},
      "outputs": [],
      "source": []
    },
    {
      "cell_type": "markdown",
      "metadata": {},
      "source": [
        "#### 11. 데이터프레임에서 ‘노선명’이 ‘2호선’인 로우만 선택하세요.\n",
        "- filtering"
      ]
    },
    {
      "cell_type": "code",
      "execution_count": null,
      "metadata": {},
      "outputs": [],
      "source": []
    },
    {
      "cell_type": "markdown",
      "metadata": {},
      "source": [
        "#### 12. 데이터프레임에서 ‘승차총승객수’가 50,000명 이상인 로우의 ‘역명’을 선택하세요.\n",
        "- filtering"
      ]
    },
    {
      "cell_type": "code",
      "execution_count": null,
      "metadata": {},
      "outputs": [],
      "source": []
    },
    {
      "cell_type": "markdown",
      "metadata": {},
      "source": [
        "#### 13. '승차총승객수'의 최대값과 최대값 로우의 인덱스가 무엇인지 확인하세요.\n",
        "- `max` and `idxmax`"
      ]
    },
    {
      "cell_type": "code",
      "execution_count": null,
      "metadata": {},
      "outputs": [],
      "source": []
    },
    {
      "cell_type": "markdown",
      "metadata": {},
      "source": [
        "#### 14. 데이터프레임에서 0번 로우를 삭제하세요.\n",
        "- `drop`"
      ]
    },
    {
      "cell_type": "code",
      "execution_count": null,
      "metadata": {},
      "outputs": [],
      "source": []
    },
    {
      "cell_type": "markdown",
      "metadata": {},
      "source": [
        "#### 15. 데이터프레임에서 ‘등록일자’ 컬럼을 삭제하세요.\n",
        "- `drop`"
      ]
    },
    {
      "cell_type": "code",
      "execution_count": null,
      "metadata": {},
      "outputs": [],
      "source": []
    },
    {
      "cell_type": "markdown",
      "metadata": {},
      "source": [
        "#### 16. ‘승차총승객수’ 컬럼의 모든 값을 2씩 증가시키세요.\n"
      ]
    },
    {
      "cell_type": "code",
      "execution_count": null,
      "metadata": {},
      "outputs": [],
      "source": []
    },
    {
      "cell_type": "code",
      "execution_count": null,
      "metadata": {},
      "outputs": [],
      "source": []
    },
    {
      "cell_type": "markdown",
      "metadata": {},
      "source": [
        "#### 17. ‘승차총승객수’와 ‘하차총승객수’ 컬럼의 차이를 계산한 ‘승하차총승객수차이’ 컬럼을 생성하세요.\n"
      ]
    },
    {
      "cell_type": "code",
      "execution_count": null,
      "metadata": {},
      "outputs": [],
      "source": []
    },
    {
      "cell_type": "markdown",
      "metadata": {},
      "source": [
        "#### 18. ‘승하차총승객수차이’의 평균값을 계산하세요.\n",
        "- `mean`"
      ]
    },
    {
      "cell_type": "code",
      "execution_count": null,
      "metadata": {},
      "outputs": [],
      "source": []
    },
    {
      "cell_type": "markdown",
      "metadata": {},
      "source": [
        "#### 19. 데이터프레임에서 10개의 행을 샘플링하세요.\n",
        "- `sample`"
      ]
    },
    {
      "cell_type": "code",
      "execution_count": null,
      "metadata": {},
      "outputs": [],
      "source": []
    },
    {
      "cell_type": "markdown",
      "metadata": {},
      "source": [
        "#### 20. 샘플링된 데이터프레임(sample_df)의 값에서 ‘노선명’ 컬럼의 값이 1호선, 2호선, 3호선, 4호선인  값을 영어(line1, line2, line3, line4)로 변경하세요.\n",
        "- `replace`"
      ]
    },
    {
      "cell_type": "code",
      "execution_count": null,
      "metadata": {},
      "outputs": [],
      "source": []
    },
    {
      "cell_type": "markdown",
      "metadata": {},
      "source": [
        "#### 21. 데이터프레임(df)의 ‘사용일자’ 컬럼을 연도-월-일(예: 2021-02-01)의 형태로 표시되도록 수정하세요.\n",
        "- `to_datetime`"
      ]
    },
    {
      "cell_type": "code",
      "execution_count": null,
      "metadata": {},
      "outputs": [],
      "source": []
    },
    {
      "cell_type": "markdown",
      "metadata": {},
      "source": [
        "#### 22. 데이터프레임(df)의 ‘사용일자1’ 컬럼을 새로 생성하고, ‘사용일자’ 컬럼에 있는 값을 datetime64의 타입으로 변환하여 저장하세요.\n",
        "- `to_datetime`"
      ]
    },
    {
      "cell_type": "code",
      "execution_count": null,
      "metadata": {},
      "outputs": [],
      "source": []
    },
    {
      "cell_type": "code",
      "execution_count": null,
      "metadata": {},
      "outputs": [],
      "source": []
    },
    {
      "cell_type": "markdown",
      "metadata": {},
      "source": [
        "#### 23. ‘노선명’을 기준으로 데이터를 그룹화하고, 각 그룹의 ‘승차총승객수’와 ‘하차총승객수’의 합, 평균, 표준편차를 구하세요.\n",
        "- `groupby` and `agg`"
      ]
    },
    {
      "cell_type": "code",
      "execution_count": null,
      "metadata": {},
      "outputs": [],
      "source": []
    },
    {
      "cell_type": "markdown",
      "metadata": {},
      "source": [
        "#### 24. ‘승차총승객수’ 컬럼의 값이 100,000 이상인 경우 ‘high’, 그렇지 않은 경우 ‘low’로 표시하는 새로운 컬럼 ‘승차레벨’을 추가하세요.\n",
        "- `apply`"
      ]
    },
    {
      "cell_type": "code",
      "execution_count": null,
      "metadata": {},
      "outputs": [],
      "source": []
    },
    {
      "cell_type": "markdown",
      "metadata": {},
      "source": [
        "#### 25. ‘노선명’ 컬럼의 값에 대해 map 함수를 사용하여 영어로 변환된 값을 가진 새로운 컬럼 ‘노선명_영어’를 추가하세요.\n",
        "- `map`"
      ]
    },
    {
      "cell_type": "code",
      "execution_count": null,
      "metadata": {},
      "outputs": [],
      "source": []
    },
    {
      "cell_type": "markdown",
      "metadata": {},
      "source": [
        "#### 26. ‘승차총승객수’를 구간별로 나누어 ‘승차구간’이라는 새로운 컬럼을 추가하세요.\n",
        "- 구간은 0-50,000, 50,001-100,000, 100,001-150,000, 150,001 이상으로 설정합니다.\n",
        "- `cut`"
      ]
    },
    {
      "cell_type": "markdown",
      "metadata": {},
      "source": []
    }
  ],
  "metadata": {
    "colab": {
      "provenance": []
    },
    "kernelspec": {
      "display_name": "Python 3",
      "name": "python3"
    },
    "language_info": {
      "codemirror_mode": {
        "name": "ipython",
        "version": 3
      },
      "file_extension": ".py",
      "mimetype": "text/x-python",
      "name": "python",
      "nbconvert_exporter": "python",
      "pygments_lexer": "ipython3",
      "version": "3.9.19"
    }
  },
  "nbformat": 4,
  "nbformat_minor": 0
}
