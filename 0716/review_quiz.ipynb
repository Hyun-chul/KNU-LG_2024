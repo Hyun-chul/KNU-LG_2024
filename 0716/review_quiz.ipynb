{
  "nbformat": 4,
  "nbformat_minor": 0,
  "metadata": {
    "colab": {
      "provenance": []
    },
    "kernelspec": {
      "name": "python3",
      "display_name": "Python 3"
    },
    "language_info": {
      "name": "python"
    }
  },
  "cells": [
    {
      "cell_type": "markdown",
      "source": [
        "# Review Quiz\n",
        "- python 코드로 작성하세요."
      ],
      "metadata": {
        "id": "q1DmbDzX3G1m"
      }
    },
    {
      "cell_type": "markdown",
      "source": [
        "### 문제1.\n",
        "- 회사명과 주가를 입력받으세요.\n",
        "- 100만원이 있을 때, 구입 가능한 주식수와 남은 금액을 출력하는 프로그램을 작성하세요.\n",
        "\n",
        "> 출력예시: ㅇㅇ사 주식 10주를 구입할 수 있으며, 남은 금액은 2000원 입니다."
      ],
      "metadata": {
        "id": "NRk45Jte3UcZ"
      }
    },
    {
      "cell_type": "code",
      "source": [],
      "metadata": {
        "id": "VT7NLVC-vU8M"
      },
      "execution_count": null,
      "outputs": []
    },
    {
      "cell_type": "markdown",
      "source": [
        "### 문제2. 세 변의 길이 (정수)를 입력 받아 삼각형을 만들 수 있는지 판별하는 프로그램을 작성하세요."
      ],
      "metadata": {
        "id": "dPbaS_ETpJkr"
      }
    },
    {
      "cell_type": "code",
      "source": [],
      "metadata": {
        "id": "VZWvhHKgpHwH"
      },
      "execution_count": null,
      "outputs": []
    },
    {
      "cell_type": "markdown",
      "source": [
        "### 문제3. 점심메뉴를 골라주는 프로그램을 작성하세요.\n",
        "- 메뉴명 5개 이상을 원소로 가지는 리스트를 작성하세요.\n",
        "- random.randint 함수를 활용하여 임의의 인덱스 값(숫자)을 선택하세요.\n",
        "\n",
        "> 출력예시: 오늘의 점심메뉴는 ㅇㅇㅇ입니다."
      ],
      "metadata": {
        "id": "o5vdXxhb3csG"
      }
    },
    {
      "cell_type": "code",
      "source": [
        "import random\n",
        "\n"
      ],
      "metadata": {
        "id": "wM7qasXQvU09"
      },
      "execution_count": null,
      "outputs": []
    },
    {
      "cell_type": "markdown",
      "source": [
        "### 문제4. 아래 딕셔너리 자료에서 content 키에 해당하는 문자열을 선택해서 출력하세요.\n",
        "\n",
        "> 출력: 안녕하세요! 대화를 잘하는 챗봇입니다. 무엇을 도와드릴까요?"
      ],
      "metadata": {
        "id": "ZJRq5_Xe36BX"
      }
    },
    {
      "cell_type": "code",
      "execution_count": null,
      "metadata": {
        "id": "nKaffc-SumIi"
      },
      "outputs": [],
      "source": [
        "data = {'id': 'chatcmpl-7dcucnWkjcCQvONs1UzUn6H8FX12j', 'object': 'chat.completion', 'created': 1689678726, 'model': 'gpt-3.5-turbo-0613', 'choices': [{'index': 0, 'message': {'role': 'assistant', 'content': '안녕하세요! 대화를 잘하는 챗봇입니다. 무엇을 도와드릴까요?'}, 'finish_reason': 'stop'}], 'usage': {'prompt_tokens': 32, 'completion_tokens': 35, 'total_tokens': 67}}\n"
      ]
    },
    {
      "cell_type": "markdown",
      "source": [
        "### 문제5. 아래 저장된 데이터의 key와 value를 바꾸세요."
      ],
      "metadata": {
        "id": "-bWG_7N239Yi"
      }
    },
    {
      "cell_type": "code",
      "source": [
        "record = {\n",
        "    'John Doe': 'name',\n",
        "    30: 'age',\n",
        "    'New York': 'city'\n",
        "    }"
      ],
      "metadata": {
        "id": "3wND_Q-8yhce"
      },
      "execution_count": null,
      "outputs": []
    },
    {
      "cell_type": "markdown",
      "source": [
        "### 문제 6. 어떤 사람이 매일 10km를 뛰고 달린 시간을 기록했다고 합니다. 지금까지 달린 횟수와, 평균 시간이 어떻게 되는지 알려주는 프로그램을 함수로 작성하세요. 사용자로 부터 입력을 계속 받고, 값을 입력하지 않고 enter를 치면 입력 받기는 종료되고 결과가 출력됩니다.\n",
        "\n",
        "> 실행 예:\n",
        "\n",
        "Enter 10 km run time : 15<br />\n",
        "Enter 10 km run time : 20<br />\n",
        "Enter 10 km run time : 10<br />\n",
        "Enter 10 km run time : \\<Enter\\><br />\n",
        "<br />\n",
        "Average : 15.0, over 3 runs<br />\n"
      ],
      "metadata": {
        "id": "IpP-Uqq44HYD"
      }
    },
    {
      "cell_type": "code",
      "source": [],
      "metadata": {
        "id": "YhdMHX9uzIG9"
      },
      "execution_count": null,
      "outputs": []
    },
    {
      "cell_type": "markdown",
      "source": [
        "### 문제 7. 3부터 100까지 3의 배수만을 원소로 가지는 리스트를 만들려고 할 때,\n",
        "- (a) range 함수를 사용해서 작성하세요.\n",
        "- (b) list comprehension을 사용해서 작성하세요."
      ],
      "metadata": {
        "id": "R9adlUkG5Pma"
      }
    },
    {
      "cell_type": "code",
      "source": [],
      "metadata": {
        "id": "0Rwsx6Mo5QNC"
      },
      "execution_count": null,
      "outputs": []
    },
    {
      "cell_type": "markdown",
      "source": [
        "### 문제 8. 로또번호를 생성하는 (1~45 중 임의의 숫자 6개를 선택하는) 프로그램을 작성하세요."
      ],
      "metadata": {
        "id": "EgTJH9Xn5Q7s"
      }
    },
    {
      "cell_type": "code",
      "source": [
        "import random"
      ],
      "metadata": {
        "id": "KOxIU5__5RQI"
      },
      "execution_count": null,
      "outputs": []
    },
    {
      "cell_type": "markdown",
      "source": [
        "### 문제 9. 피그 라틴은 영어권 국가 어린이들이 사용하는 비밀언어 입니다. 피그라틴의 규칙은 아래와 같습니다.\n",
        "\n",
        "- 규칙1. 단어가 모음 (a, e, i, o, u)으로 시작하면 끝에 'way'를 붙입니다.\n",
        "- 규칙2. 단어가 다른 글자로 시작하면, 첫글자를 단어의 맨 마지막으로 옮기고 그 뒤에 'ay'를 추가합니다.\n",
        "> 예: air -> airway, eat -> eatway, python -> ythonpay, computer --> omputercay\n",
        "\n",
        "pig_latin 이라는 이름의 함수를 만들어 위 규칙대로 단어가 변경되도록 구현하세요."
      ],
      "metadata": {
        "id": "0PpqVZ9h5RfA"
      }
    },
    {
      "cell_type": "code",
      "source": [
        "def pig_latin():\n",
        "  pass\n",
        "\n",
        "# pig_latin('air') # airway\n",
        "# pig_latin('python') # ythonpay"
      ],
      "metadata": {
        "id": "xXHVZ6s15RsS"
      },
      "execution_count": null,
      "outputs": []
    },
    {
      "cell_type": "markdown",
      "source": [
        "### 문제 10. 강수량 합계 구하기\n",
        "\n",
        "- 아래 data는 (도시명, 비가온 날 강수량) 값을 기록한 것이다.\n",
        "- 가장 비가 많이 온 도시가 어디인지 찾아내시오.\n"
      ],
      "metadata": {
        "id": "rbjybCmOtXXP"
      }
    },
    {
      "cell_type": "code",
      "source": [
        "data = [('Sydney', 78),\n",
        " ('Sydney', 72),\n",
        " ('Seoul', 65),\n",
        " ('Seoul', 23),\n",
        " ('New York', 55),\n",
        " ('Seoul', 24),\n",
        " ('Sydney', 36),\n",
        " ('Seoul', 38),\n",
        " ('London', 83),\n",
        " ('Sydney', 24),\n",
        " ('Sydney', 43),\n",
        " ('Paris', 66),\n",
        " ('London', 24),\n",
        " ('New York', 56),\n",
        " ('Seoul', 20),\n",
        " ('New York', 27),\n",
        " ('New York', 43),\n",
        " ('New York', 62),\n",
        " ('Sydney', 24),\n",
        " ('London', 37),\n",
        " ('New York', 30),\n",
        " ('Paris', 61),\n",
        " ('London', 34),\n",
        " ('Paris', 35),\n",
        " ('New York', 26),\n",
        " ('Sydney', 37),\n",
        " ('Paris', 84),\n",
        " ('Seoul', 82),\n",
        " ('New York', 64),\n",
        " ('London', 60),\n",
        " ('Seoul', 63),\n",
        " ('Sydney', 37),\n",
        " ('Sydney', 54),\n",
        " ('Paris', 46),\n",
        " ('London', 27),\n",
        " ('Sydney', 44),\n",
        " ('Sydney', 61),\n",
        " ('Paris', 72),\n",
        " ('Paris', 46),\n",
        " ('Paris', 52),\n",
        " ('New York', 36),\n",
        " ('Paris', 51),\n",
        " ('Paris', 22),\n",
        " ('Seoul', 65),\n",
        " ('London', 28),\n",
        " ('New York', 36),\n",
        " ('New York', 73),\n",
        " ('Paris', 56),\n",
        " ('Seoul', 42),\n",
        " ('Sydney', 71)]\n"
      ],
      "metadata": {
        "id": "U5Y0Zpxpwil6"
      },
      "execution_count": null,
      "outputs": []
    }
  ]
}