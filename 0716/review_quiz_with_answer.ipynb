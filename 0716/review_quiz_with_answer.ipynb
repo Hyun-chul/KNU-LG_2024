{
  "nbformat": 4,
  "nbformat_minor": 0,
  "metadata": {
    "colab": {
      "provenance": []
    },
    "kernelspec": {
      "name": "python3",
      "display_name": "Python 3"
    },
    "language_info": {
      "name": "python"
    }
  },
  "cells": [
    {
      "cell_type": "markdown",
      "source": [
        "# Review Quiz\n",
        "- python 코드로 작성하세요."
      ],
      "metadata": {
        "id": "q1DmbDzX3G1m"
      }
    },
    {
      "cell_type": "markdown",
      "source": [
        "### 문제1.\n",
        "- 회사명과 주가를 입력받으세요.\n",
        "- 100만원이 있을 때, 구입 가능한 주식수와 남은 금액을 출력하는 프로그램을 작성하세요.\n",
        "\n",
        "> 출력예시: ㅇㅇ사 주식 10주를 구입할 수 있으며, 남은 금액은 2000원 입니다."
      ],
      "metadata": {
        "id": "NRk45Jte3UcZ"
      }
    },
    {
      "cell_type": "code",
      "source": [
        "def calculate_stock_purchase(company_name, stock_price):\n",
        "    budget = 1000000  # 100만원\n",
        "    num_stocks = budget // stock_price\n",
        "    remaining_amount = budget % stock_price\n",
        "\n",
        "    return num_stocks, remaining_amount\n",
        "\n",
        "def main():\n",
        "    try:\n",
        "        company_name = input(\"회사명을 입력하세요: \")\n",
        "        stock_price = int(input(f\"{company_name}의 주가를 입력하세요: \"))\n",
        "\n",
        "        num_stocks, remaining_amount = calculate_stock_purchase(company_name, stock_price)\n",
        "\n",
        "        print(f\"{company_name} 주식 {num_stocks}주를 구입할 수 있으며, 남은 금액은 {remaining_amount}원 입니다.\")\n",
        "    except ValueError:\n",
        "        print(\"잘못된 입력입니다. 숫자를 입력해주세요.\")\n",
        "\n",
        "if __name__ == \"__main__\":\n",
        "    main()\n"
      ],
      "metadata": {
        "id": "VT7NLVC-vU8M"
      },
      "execution_count": null,
      "outputs": []
    },
    {
      "cell_type": "markdown",
      "source": [
        "### 문제2. 세 변의 길이 (정수)를 입력 받아 삼각형을 만들 수 있는지 판별하는 프로그램을 작성하세요."
      ],
      "metadata": {
        "id": "dPbaS_ETpJkr"
      }
    },
    {
      "cell_type": "code",
      "source": [
        "def is_triangle(a, b, c):\n",
        "    if a + b > c and a + c > b and b + c > a:\n",
        "        return True\n",
        "    else:\n",
        "        return False\n",
        "\n",
        "def main():\n",
        "    try:\n",
        "        a = int(input(\"첫 번째 변의 길이를 입력하세요: \"))\n",
        "        b = int(input(\"두 번째 변의 길이를 입력하세요: \"))\n",
        "        c = int(input(\"세 번째 변의 길이를 입력하세요: \"))\n",
        "\n",
        "        if is_triangle(a, b, c):\n",
        "            print(\"세 변의 길이로 삼각형을 만들 수 있습니다.\")\n",
        "        else:\n",
        "            print(\"세 변의 길이로 삼각형을 만들 수 없습니다.\")\n",
        "    except ValueError:\n",
        "        print(\"잘못된 입력입니다. 정수를 입력해주세요.\")\n",
        "\n",
        "if __name__ == \"__main__\":\n",
        "    main()"
      ],
      "metadata": {
        "id": "VZWvhHKgpHwH"
      },
      "execution_count": null,
      "outputs": []
    },
    {
      "cell_type": "markdown",
      "source": [
        "### 문제3. 점심메뉴를 골라주는 프로그램을 작성하세요.\n",
        "- 메뉴명 5개 이상을 원소로 가지는 리스트를 작성하세요.\n",
        "- random.randint 함수를 활용하여 임의의 인덱스 값(숫자)을 선택하세요.\n",
        "\n",
        "> 출력예시: 오늘의 점심메뉴는 ㅇㅇㅇ입니다."
      ],
      "metadata": {
        "id": "o5vdXxhb3csG"
      }
    },
    {
      "cell_type": "code",
      "source": [
        "import random\n",
        "\n",
        "def choose_lunch_menu():\n",
        "    menu_list = [\"김치찌개\", \"된장찌개\", \"비빔밥\", \"돈까스\", \"칼국수\", \"냉면\", \"불고기\"]\n",
        "\n",
        "    # 리스트의 인덱스 범위 내에서 임의의 숫자 선택\n",
        "    chosen_index = random.randint(0, len(menu_list) - 1)\n",
        "\n",
        "    chosen_menu = menu_list[chosen_index]\n",
        "\n",
        "    print(f\"오늘의 점심메뉴는 {chosen_menu}입니다.\")\n",
        "\n",
        "if __name__ == \"__main__\":\n",
        "    choose_lunch_menu()"
      ],
      "metadata": {
        "id": "wM7qasXQvU09"
      },
      "execution_count": null,
      "outputs": []
    },
    {
      "cell_type": "markdown",
      "source": [
        "### 문제4. 아래 딕셔너리 자료에서 content 키에 해당하는 문자열을 선택해서 출력하세요.\n",
        "\n",
        "> 출력: 안녕하세요! 대화를 잘하는 챗봇입니다. 무엇을 도와드릴까요?"
      ],
      "metadata": {
        "id": "ZJRq5_Xe36BX"
      }
    },
    {
      "cell_type": "code",
      "execution_count": null,
      "metadata": {
        "id": "nKaffc-SumIi"
      },
      "outputs": [],
      "source": [
        "data = {'id': 'chatcmpl-7dcucnWkjcCQvONs1UzUn6H8FX12j', 'object': 'chat.completion', 'created': 1689678726, 'model': 'gpt-3.5-turbo-0613', 'choices': [{'index': 0, 'message': {'role': 'assistant', 'content': '안녕하세요! 대화를 잘하는 챗봇입니다. 무엇을 도와드릴까요?'}, 'finish_reason': 'stop'}], 'usage': {'prompt_tokens': 32, 'completion_tokens': 35, 'total_tokens': 67}}\n",
        "\n",
        "# content 키에 해당하는 문자열을 선택해서 출력\n",
        "content_message = data['choices'][0]['message']['content']\n",
        "print(content_message)\n"
      ]
    },
    {
      "cell_type": "markdown",
      "source": [
        "### 문제5. 아래 저장된 데이터의 key와 value를 바꾸세요."
      ],
      "metadata": {
        "id": "-bWG_7N239Yi"
      }
    },
    {
      "cell_type": "code",
      "source": [
        "record = {\n",
        "    'John Doe': 'name',\n",
        "    30: 'age',\n",
        "    'New York': 'city'\n",
        "    }\n",
        "\n",
        "# Key와 value를 바꾸기\n",
        "reversed_record = {value: key for key, value in record.items()}\n",
        "\n",
        "print(reversed_record)"
      ],
      "metadata": {
        "id": "3wND_Q-8yhce"
      },
      "execution_count": null,
      "outputs": []
    },
    {
      "cell_type": "markdown",
      "source": [
        "### 문제 6. 어떤 사람이 매일 10km를 뛰고 달린 시간을 기록했다고 합니다. 지금까지 달린 횟수와, 평균 시간이 어떻게 되는지 알려주는 프로그램을 함수로 작성하세요. 사용자로 부터 입력을 계속 받고, 값을 입력하지 않고 enter를 치면 입력 받기는 종료되고 결과가 출력됩니다.\n",
        "\n",
        "> 실행 예:\n",
        "\n",
        "Enter 10 km run time : 15<br />\n",
        "Enter 10 km run time : 20<br />\n",
        "Enter 10 km run time : 10<br />\n",
        "Enter 10 km run time : \\<Enter\\><br />\n",
        "<br />\n",
        "Average : 15.0, over 3 runs<br />\n"
      ],
      "metadata": {
        "id": "IpP-Uqq44HYD"
      }
    },
    {
      "cell_type": "code",
      "source": [
        "def calculate_average_run_time():\n",
        "    run_times = []\n",
        "\n",
        "    while True:\n",
        "        user_input = input(\"Enter 10 km run time : \")\n",
        "\n",
        "        if user_input == \"\":\n",
        "            break\n",
        "\n",
        "        try:\n",
        "            run_time = float(user_input)\n",
        "            run_times.append(run_time)\n",
        "        except ValueError:\n",
        "            print(\"Invalid input. Please enter a number.\")\n",
        "\n",
        "    if run_times:\n",
        "        total_runs = len(run_times)\n",
        "        average_time = sum(run_times) / total_runs\n",
        "        print(f\"Average : {average_time:.1f}, over {total_runs} runs\")\n",
        "    else:\n",
        "        print(\"No run times entered.\")\n",
        "\n",
        "if __name__ == \"__main__\":\n",
        "    calculate_average_run_time()\n"
      ],
      "metadata": {
        "id": "YhdMHX9uzIG9"
      },
      "execution_count": null,
      "outputs": []
    },
    {
      "cell_type": "markdown",
      "source": [
        "### 문제 7. 3부터 100까지 3의 배수만을 원소로 가지는 리스트를 만들려고 할 때,\n",
        "- (a) range 함수를 사용해서 작성하세요.\n",
        "- (b) list comprehension을 사용해서 작성하세요."
      ],
      "metadata": {
        "id": "R9adlUkG5Pma"
      }
    },
    {
      "cell_type": "code",
      "source": [
        "multiples_of_three = list(range(3, 101, 3))\n",
        "print(multiples_of_three)\n",
        "\n",
        "multiples_of_three = [x for x in range(3, 101) if x % 3 == 0]\n",
        "print(multiples_of_three)\n"
      ],
      "metadata": {
        "id": "0Rwsx6Mo5QNC"
      },
      "execution_count": null,
      "outputs": []
    },
    {
      "cell_type": "markdown",
      "source": [
        "### 문제 8. 로또번호를 생성하는 (1~45 중 임의의 숫자 6개를 선택하는) 프로그램을 작성하세요."
      ],
      "metadata": {
        "id": "EgTJH9Xn5Q7s"
      }
    },
    {
      "cell_type": "code",
      "source": [
        "import random\n",
        "\n",
        "def generate_lotto_numbers():\n",
        "    # 1부터 45까지의 숫자 중에서 중복되지 않는 6개의 숫자를 선택합니다.\n",
        "    lotto_numbers = random.sample(range(1, 46), 6)\n",
        "    # 선택된 숫자를 정렬합니다.\n",
        "    lotto_numbers.sort()\n",
        "    return lotto_numbers\n",
        "\n",
        "def main():\n",
        "    lotto_numbers = generate_lotto_numbers()\n",
        "    print(f\"생성된 로또 번호: {lotto_numbers}\")\n",
        "\n",
        "if __name__ == \"__main__\":\n",
        "    main()"
      ],
      "metadata": {
        "id": "KOxIU5__5RQI",
        "colab": {
          "base_uri": "https://localhost:8080/"
        },
        "outputId": "0727f7fa-3741-4cc1-9ea3-1a02dc0f14a4"
      },
      "execution_count": null,
      "outputs": [
        {
          "output_type": "stream",
          "name": "stdout",
          "text": [
            "생성된 로또 번호: [18, 19, 24, 30, 42, 43]\n"
          ]
        }
      ]
    },
    {
      "cell_type": "markdown",
      "source": [
        "### 문제 9. 피그 라틴은 영어권 국가 어린이들이 사용하는 비밀언어 입니다. 피그라틴의 규칙은 아래와 같습니다.\n",
        "\n",
        "- 규칙1. 단어가 모음 (a, e, i, o, u)으로 시작하면 끝에 'way'를 붙입니다.\n",
        "- 규칙2. 단어가 다른 글자로 시작하면, 첫글자를 단어의 맨 마지막으로 옮기고 그 뒤에 'ay'를 추가합니다.\n",
        "> 예: air -> airway, eat -> eatway, python -> ythonpay, computer --> omputercay\n",
        "\n",
        "pig_latin 이라는 이름의 함수를 만들어 위 규칙대로 단어가 변경되도록 구현하세요."
      ],
      "metadata": {
        "id": "0PpqVZ9h5RfA"
      }
    },
    {
      "cell_type": "code",
      "source": [
        "def pig_latin(word):\n",
        "    vowels = 'aeiou'\n",
        "\n",
        "    if word[0].lower() in vowels:\n",
        "        return word + 'way'\n",
        "    else:\n",
        "        return word[1:] + word[0] + 'ay'\n",
        "\n",
        "# 테스트 예시\n",
        "print(pig_latin(\"air\"))      # airway\n",
        "print(pig_latin(\"eat\"))      # eatway\n",
        "print(pig_latin(\"python\"))   # ythonpay\n",
        "print(pig_latin(\"computer\")) # omputercay"
      ],
      "metadata": {
        "id": "xXHVZ6s15RsS"
      },
      "execution_count": null,
      "outputs": []
    },
    {
      "cell_type": "markdown",
      "source": [
        "### 문제 10. 강수량 합계 구하기\n",
        "\n",
        "- 아래 data는 (도시명, 비가온 날 강수량) 값을 기록한 것이다.\n",
        "- 가장 비가 많이 온 도시가 어디인지 찾아내시오.\n"
      ],
      "metadata": {
        "id": "rbjybCmOtXXP"
      }
    },
    {
      "cell_type": "code",
      "source": [
        "data = [('Sydney', 78),\n",
        " ('Sydney', 72),\n",
        " ('Seoul', 65),\n",
        " ('Seoul', 23),\n",
        " ('New York', 55),\n",
        " ('Seoul', 24),\n",
        " ('Sydney', 36),\n",
        " ('Seoul', 38),\n",
        " ('London', 83),\n",
        " ('Sydney', 24),\n",
        " ('Sydney', 43),\n",
        " ('Paris', 66),\n",
        " ('London', 24),\n",
        " ('New York', 56),\n",
        " ('Seoul', 20),\n",
        " ('New York', 27),\n",
        " ('New York', 43),\n",
        " ('New York', 62),\n",
        " ('Sydney', 24),\n",
        " ('London', 37),\n",
        " ('New York', 30),\n",
        " ('Paris', 61),\n",
        " ('London', 34),\n",
        " ('Paris', 35),\n",
        " ('New York', 26),\n",
        " ('Sydney', 37),\n",
        " ('Paris', 84),\n",
        " ('Seoul', 82),\n",
        " ('New York', 64),\n",
        " ('London', 60),\n",
        " ('Seoul', 63),\n",
        " ('Sydney', 37),\n",
        " ('Sydney', 54),\n",
        " ('Paris', 46),\n",
        " ('London', 27),\n",
        " ('Sydney', 44),\n",
        " ('Sydney', 61),\n",
        " ('Paris', 72),\n",
        " ('Paris', 46),\n",
        " ('Paris', 52),\n",
        " ('New York', 36),\n",
        " ('Paris', 51),\n",
        " ('Paris', 22),\n",
        " ('Seoul', 65),\n",
        " ('London', 28),\n",
        " ('New York', 36),\n",
        " ('New York', 73),\n",
        " ('Paris', 56),\n",
        " ('Seoul', 42),\n",
        " ('Sydney', 71)\n",
        " ]\n",
        "\n",
        "def find_city_with_most_rain(data):\n",
        "    rainfall_totals = {}\n",
        "\n",
        "    for city, rainfall in data:\n",
        "        if city in rainfall_totals:\n",
        "            rainfall_totals[city] += rainfall\n",
        "        else:\n",
        "            rainfall_totals[city] = rainfall\n",
        "\n",
        "    max_rainfall_city = max(rainfall_totals, key=rainfall_totals.get)\n",
        "    return max_rainfall_city, rainfall_totals[max_rainfall_city]\n",
        "\n",
        "city, total_rainfall = find_city_with_most_rain(data)\n",
        "print(f\"가장 비가 많이 온 도시는 {city}이며, 총 강수량은 {total_rainfall}mm입니다.\")\n",
        "\n"
      ],
      "metadata": {
        "id": "U5Y0Zpxpwil6",
        "colab": {
          "base_uri": "https://localhost:8080/"
        },
        "outputId": "7b461349-66f3-4aee-9cd7-1df3f8f08876"
      },
      "execution_count": null,
      "outputs": [
        {
          "output_type": "stream",
          "name": "stdout",
          "text": [
            "가장 비가 많이 온 도시는 Paris이며, 총 강수량은 591mm입니다.\n"
          ]
        }
      ]
    }
  ]
}